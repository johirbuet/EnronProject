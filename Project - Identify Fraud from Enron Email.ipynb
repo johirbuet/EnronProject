{
 "cells": [
  {
   "cell_type": "markdown",
   "metadata": {},
   "source": [
    "# P5 - Identify Fraud from Enron Email"
   ]
  },
  {
   "cell_type": "markdown",
   "metadata": {},
   "source": [
    "## 1. Goal of the project\n",
    "\n",
    "Enron was an energy trading company that was one of the top 10 largest companies in the US in 2001. In 2002, the company was bankrupt and people were put in jail due to corporate fraud and corruption. Enron was involved in the following schemes:\n",
    "\n",
    "- selling assets to shell companies at the end of each month, and buying them back at the beginning of the               next month to hide accounting losses\n",
    "- causing electrical grid failures in California\n",
    "\n",
    "Enron had a second life because of its data set that includes one of the largest corpus of real emails. We will use this data set combined with financial information to indetify persons of interest involved in this fraud by implementing machine learning techniques.\n",
    "\n",
    "A person of interest is a person who was:\n",
    "- indicted\n",
    "- settled without admitting being guilty\n",
    "- testified in exchange for immunity\n",
    "        \n",
    "The aggregated Enron email + financial dataset is stored in a dictionary, where each key in the dictionary is a person’s name, and the value is a dictionary containing all the features of that person. "
   ]
  },
  {
   "cell_type": "code",
   "execution_count": 1,
   "metadata": {},
   "outputs": [
    {
     "name": "stdout",
     "output_type": "stream",
     "text": [
      "Populating the interactive namespace from numpy and matplotlib\n"
     ]
    },
    {
     "name": "stderr",
     "output_type": "stream",
     "text": [
      "C:\\Users\\johir\\Anaconda3\\lib\\site-packages\\sklearn\\cross_validation.py:44: DeprecationWarning: This module was deprecated in version 0.18 in favor of the model_selection module into which all the refactored classes and functions are moved. Also note that the interface of the new CV iterators are different from that of this module. This module will be removed in 0.20.\n",
      "  \"This module will be removed in 0.20.\", DeprecationWarning)\n"
     ]
    }
   ],
   "source": [
    "#!/usr/bin/python\n",
    "\n",
    "import sys\n",
    "import pickle\n",
    "from time import time\n",
    "import numpy as np\n",
    "import matplotlib.pyplot as plt\n",
    "from __future__ import division\n",
    "\n",
    "# Use seaborn for plotting defaults\n",
    "import seaborn as sns; \n",
    "sns.set()\n",
    "\n",
    "%pylab inline\n",
    "\n",
    "from feature_format import featureFormat, targetFeatureSplit\n",
    "from tester import dump_classifier_and_data\n",
    "\n",
    "data_dict = pickle.load(open(\"final_project_dataset.pkl\", \"rb\") )"
   ]
  },
  {
   "cell_type": "code",
   "execution_count": 2,
   "metadata": {},
   "outputs": [
    {
     "name": "stdout",
     "output_type": "stream",
     "text": [
      "{'METTS MARK': {'salary': 365788, 'to_messages': 807, 'deferral_payments': 'NaN', 'total_payments': 1061827, 'loan_advances': 'NaN', 'bonus': 600000, 'email_address': 'mark.metts@enron.com', 'restricted_stock_deferred': 'NaN', 'deferred_income': 'NaN', 'total_stock_value': 585062, 'expenses': 94299, 'from_poi_to_this_person': 38, 'exercised_stock_options': 'NaN', 'from_messages': 29, 'other': 1740, 'from_this_person_to_poi': 1, 'poi': False, 'long_term_incentive': 'NaN', 'shared_receipt_with_poi': 702, 'restricted_stock': 585062, 'director_fees': 'NaN'}, 'BAXTER JOHN C': {'salary': 267102, 'to_messages': 'NaN', 'deferral_payments': 1295738, 'total_payments': 5634343, 'loan_advances': 'NaN', 'bonus': 1200000, 'email_address': 'NaN', 'restricted_stock_deferred': 'NaN', 'deferred_income': -1386055, 'total_stock_value': 10623258, 'expenses': 11200, 'from_poi_to_this_person': 'NaN', 'exercised_stock_options': 6680544, 'from_messages': 'NaN', 'other': 2660303, 'from_this_person_to_poi': 'NaN', 'poi': False, 'long_term_incentive': 1586055, 'shared_receipt_with_poi': 'NaN', 'restricted_stock': 3942714, 'director_fees': 'NaN'}, 'ELLIOTT STEVEN': {'salary': 170941, 'to_messages': 'NaN', 'deferral_payments': 'NaN', 'total_payments': 211725, 'loan_advances': 'NaN', 'bonus': 350000, 'email_address': 'steven.elliott@enron.com', 'restricted_stock_deferred': 'NaN', 'deferred_income': -400729, 'total_stock_value': 6678735, 'expenses': 78552, 'from_poi_to_this_person': 'NaN', 'exercised_stock_options': 4890344, 'from_messages': 'NaN', 'other': 12961, 'from_this_person_to_poi': 'NaN', 'poi': False, 'long_term_incentive': 'NaN', 'shared_receipt_with_poi': 'NaN', 'restricted_stock': 1788391, 'director_fees': 'NaN'}, 'CORDES WILLIAM R': {'salary': 'NaN', 'to_messages': 764, 'deferral_payments': 'NaN', 'total_payments': 'NaN', 'loan_advances': 'NaN', 'bonus': 'NaN', 'email_address': 'bill.cordes@enron.com', 'restricted_stock_deferred': 'NaN', 'deferred_income': 'NaN', 'total_stock_value': 1038185, 'expenses': 'NaN', 'from_poi_to_this_person': 10, 'exercised_stock_options': 651850, 'from_messages': 12, 'other': 'NaN', 'from_this_person_to_poi': 0, 'poi': False, 'long_term_incentive': 'NaN', 'shared_receipt_with_poi': 58, 'restricted_stock': 386335, 'director_fees': 'NaN'}, 'HANNON KEVIN P': {'salary': 243293, 'to_messages': 1045, 'deferral_payments': 'NaN', 'total_payments': 288682, 'loan_advances': 'NaN', 'bonus': 1500000, 'email_address': 'kevin.hannon@enron.com', 'restricted_stock_deferred': 'NaN', 'deferred_income': -3117011, 'total_stock_value': 6391065, 'expenses': 34039, 'from_poi_to_this_person': 32, 'exercised_stock_options': 5538001, 'from_messages': 32, 'other': 11350, 'from_this_person_to_poi': 21, 'poi': True, 'long_term_incentive': 1617011, 'shared_receipt_with_poi': 1035, 'restricted_stock': 853064, 'director_fees': 'NaN'}, 'MORDAUNT KRISTINA M': {'salary': 267093, 'to_messages': 'NaN', 'deferral_payments': 'NaN', 'total_payments': 628522, 'loan_advances': 'NaN', 'bonus': 325000, 'email_address': 'kristina.mordaunt@enron.com', 'restricted_stock_deferred': 'NaN', 'deferred_income': 'NaN', 'total_stock_value': 208510, 'expenses': 35018, 'from_poi_to_this_person': 'NaN', 'exercised_stock_options': 'NaN', 'from_messages': 'NaN', 'other': 1411, 'from_this_person_to_poi': 'NaN', 'poi': False, 'long_term_incentive': 'NaN', 'shared_receipt_with_poi': 'NaN', 'restricted_stock': 208510, 'director_fees': 'NaN'}, 'MEYER ROCKFORD G': {'salary': 'NaN', 'to_messages': 232, 'deferral_payments': 1848227, 'total_payments': 1848227, 'loan_advances': 'NaN', 'bonus': 'NaN', 'email_address': 'rockford.meyer@enron.com', 'restricted_stock_deferred': 'NaN', 'deferred_income': 'NaN', 'total_stock_value': 955873, 'expenses': 'NaN', 'from_poi_to_this_person': 0, 'exercised_stock_options': 493489, 'from_messages': 28, 'other': 'NaN', 'from_this_person_to_poi': 0, 'poi': False, 'long_term_incentive': 'NaN', 'shared_receipt_with_poi': 22, 'restricted_stock': 462384, 'director_fees': 'NaN'}, 'MCMAHON JEFFREY': {'salary': 370448, 'to_messages': 2355, 'deferral_payments': 'NaN', 'total_payments': 4099771, 'loan_advances': 'NaN', 'bonus': 2600000, 'email_address': 'jeffrey.mcmahon@enron.com', 'restricted_stock_deferred': 'NaN', 'deferred_income': 'NaN', 'total_stock_value': 1662855, 'expenses': 137108, 'from_poi_to_this_person': 58, 'exercised_stock_options': 1104054, 'from_messages': 48, 'other': 297353, 'from_this_person_to_poi': 26, 'poi': False, 'long_term_incentive': 694862, 'shared_receipt_with_poi': 2228, 'restricted_stock': 558801, 'director_fees': 'NaN'}, 'HAEDICKE MARK E': {'salary': 374125, 'to_messages': 4009, 'deferral_payments': 2157527, 'total_payments': 3859065, 'loan_advances': 'NaN', 'bonus': 1150000, 'email_address': 'mark.haedicke@enron.com', 'restricted_stock_deferred': -329825, 'deferred_income': -934484, 'total_stock_value': 803094, 'expenses': 76169, 'from_poi_to_this_person': 180, 'exercised_stock_options': 608750, 'from_messages': 1941, 'other': 52382, 'from_this_person_to_poi': 61, 'poi': False, 'long_term_incentive': 983346, 'shared_receipt_with_poi': 1847, 'restricted_stock': 524169, 'director_fees': 'NaN'}, 'PIPER GREGORY F': {'salary': 197091, 'to_messages': 1238, 'deferral_payments': 1130036, 'total_payments': 1737629, 'loan_advances': 'NaN', 'bonus': 400000, 'email_address': 'greg.piper@enron.com', 'restricted_stock_deferred': -409554, 'deferred_income': -33333, 'total_stock_value': 880290, 'expenses': 43057, 'from_poi_to_this_person': 61, 'exercised_stock_options': 880290, 'from_messages': 222, 'other': 778, 'from_this_person_to_poi': 48, 'poi': False, 'long_term_incentive': 'NaN', 'shared_receipt_with_poi': 742, 'restricted_stock': 409554, 'director_fees': 'NaN'}, 'HUMPHREY GENE E': {'salary': 130724, 'to_messages': 128, 'deferral_payments': 2964506, 'total_payments': 3100224, 'loan_advances': 'NaN', 'bonus': 'NaN', 'email_address': 'gene.humphrey@enron.com', 'restricted_stock_deferred': 'NaN', 'deferred_income': 'NaN', 'total_stock_value': 2282768, 'expenses': 4994, 'from_poi_to_this_person': 10, 'exercised_stock_options': 2282768, 'from_messages': 17, 'other': 'NaN', 'from_this_person_to_poi': 17, 'poi': False, 'long_term_incentive': 'NaN', 'shared_receipt_with_poi': 119, 'restricted_stock': 'NaN', 'director_fees': 'NaN'}, 'NOLES JAMES L': {'salary': 'NaN', 'to_messages': 'NaN', 'deferral_payments': 774401, 'total_payments': 774401, 'loan_advances': 'NaN', 'bonus': 'NaN', 'email_address': 'NaN', 'restricted_stock_deferred': -94556, 'deferred_income': 'NaN', 'total_stock_value': 368705, 'expenses': 'NaN', 'from_poi_to_this_person': 'NaN', 'exercised_stock_options': 'NaN', 'from_messages': 'NaN', 'other': 'NaN', 'from_this_person_to_poi': 'NaN', 'poi': False, 'long_term_incentive': 'NaN', 'shared_receipt_with_poi': 'NaN', 'restricted_stock': 463261, 'director_fees': 'NaN'}, 'BLACHMAN JEREMY M': {'salary': 248546, 'to_messages': 2475, 'deferral_payments': 'NaN', 'total_payments': 2014835, 'loan_advances': 'NaN', 'bonus': 850000, 'email_address': 'jeremy.blachman@enron.com', 'restricted_stock_deferred': 'NaN', 'deferred_income': 'NaN', 'total_stock_value': 954354, 'expenses': 84208, 'from_poi_to_this_person': 25, 'exercised_stock_options': 765313, 'from_messages': 14, 'other': 272, 'from_this_person_to_poi': 2, 'poi': False, 'long_term_incentive': 831809, 'shared_receipt_with_poi': 2326, 'restricted_stock': 189041, 'director_fees': 'NaN'}, 'SUNDE MARTIN': {'salary': 257486, 'to_messages': 2647, 'deferral_payments': 'NaN', 'total_payments': 1545059, 'loan_advances': 'NaN', 'bonus': 700000, 'email_address': 'marty.sunde@enron.com', 'restricted_stock_deferred': 'NaN', 'deferred_income': 'NaN', 'total_stock_value': 698920, 'expenses': 'NaN', 'from_poi_to_this_person': 37, 'exercised_stock_options': 'NaN', 'from_messages': 38, 'other': 111122, 'from_this_person_to_poi': 13, 'poi': False, 'long_term_incentive': 476451, 'shared_receipt_with_poi': 2565, 'restricted_stock': 698920, 'director_fees': 'NaN'}, 'GIBBS DANA R': {'salary': 'NaN', 'to_messages': 169, 'deferral_payments': 504610, 'total_payments': 966522, 'loan_advances': 'NaN', 'bonus': 'NaN', 'email_address': 'dana.gibbs@enron.com', 'restricted_stock_deferred': 'NaN', 'deferred_income': 'NaN', 'total_stock_value': 2218275, 'expenses': 'NaN', 'from_poi_to_this_person': 0, 'exercised_stock_options': 2218275, 'from_messages': 12, 'other': 'NaN', 'from_this_person_to_poi': 0, 'poi': False, 'long_term_incentive': 461912, 'shared_receipt_with_poi': 23, 'restricted_stock': 'NaN', 'director_fees': 'NaN'}, 'LOWRY CHARLES P': {'salary': 'NaN', 'to_messages': 'NaN', 'deferral_payments': 'NaN', 'total_payments': 'NaN', 'loan_advances': 'NaN', 'bonus': 'NaN', 'email_address': 'NaN', 'restricted_stock_deferred': -153686, 'deferred_income': 'NaN', 'total_stock_value': 372205, 'expenses': 'NaN', 'from_poi_to_this_person': 'NaN', 'exercised_stock_options': 372205, 'from_messages': 'NaN', 'other': 'NaN', 'from_this_person_to_poi': 'NaN', 'poi': False, 'long_term_incentive': 'NaN', 'shared_receipt_with_poi': 'NaN', 'restricted_stock': 153686, 'director_fees': 'NaN'}, 'COLWELL WESLEY': {'salary': 288542, 'to_messages': 1758, 'deferral_payments': 27610, 'total_payments': 1490344, 'loan_advances': 'NaN', 'bonus': 1200000, 'email_address': 'wes.colwell@enron.com', 'restricted_stock_deferred': 'NaN', 'deferred_income': -144062, 'total_stock_value': 698242, 'expenses': 16514, 'from_poi_to_this_person': 240, 'exercised_stock_options': 'NaN', 'from_messages': 40, 'other': 101740, 'from_this_person_to_poi': 11, 'poi': True, 'long_term_incentive': 'NaN', 'shared_receipt_with_poi': 1132, 'restricted_stock': 698242, 'director_fees': 'NaN'}, 'MULLER MARK S': {'salary': 251654, 'to_messages': 136, 'deferral_payments': 842924, 'total_payments': 3202070, 'loan_advances': 'NaN', 'bonus': 1100000, 'email_address': 's..muller@enron.com', 'restricted_stock_deferred': 'NaN', 'deferred_income': -719000, 'total_stock_value': 1416848, 'expenses': 'NaN', 'from_poi_to_this_person': 12, 'exercised_stock_options': 1056320, 'from_messages': 16, 'other': 947, 'from_this_person_to_poi': 0, 'poi': False, 'long_term_incentive': 1725545, 'shared_receipt_with_poi': 114, 'restricted_stock': 360528, 'director_fees': 'NaN'}, 'JACKSON CHARLENE R': {'salary': 288558, 'to_messages': 258, 'deferral_payments': 'NaN', 'total_payments': 551174, 'loan_advances': 'NaN', 'bonus': 250000, 'email_address': 'charlene.jackson@enron.com', 'restricted_stock_deferred': 'NaN', 'deferred_income': 'NaN', 'total_stock_value': 725735, 'expenses': 10181, 'from_poi_to_this_person': 25, 'exercised_stock_options': 185063, 'from_messages': 56, 'other': 2435, 'from_this_person_to_poi': 19, 'poi': False, 'long_term_incentive': 'NaN', 'shared_receipt_with_poi': 117, 'restricted_stock': 540672, 'director_fees': 'NaN'}, 'WESTFAHL RICHARD K': {'salary': 63744, 'to_messages': 'NaN', 'deferral_payments': 'NaN', 'total_payments': 762135, 'loan_advances': 'NaN', 'bonus': 'NaN', 'email_address': 'dick.westfahl@enron.com', 'restricted_stock_deferred': 'NaN', 'deferred_income': -10800, 'total_stock_value': 384930, 'expenses': 51870, 'from_poi_to_this_person': 'NaN', 'exercised_stock_options': 'NaN', 'from_messages': 'NaN', 'other': 401130, 'from_this_person_to_poi': 'NaN', 'poi': False, 'long_term_incentive': 256191, 'shared_receipt_with_poi': 'NaN', 'restricted_stock': 384930, 'director_fees': 'NaN'}, 'WALTERS GARETH W': {'salary': 'NaN', 'to_messages': 'NaN', 'deferral_payments': 53625, 'total_payments': 87410, 'loan_advances': 'NaN', 'bonus': 'NaN', 'email_address': 'NaN', 'restricted_stock_deferred': 'NaN', 'deferred_income': 'NaN', 'total_stock_value': 1030329, 'expenses': 33785, 'from_poi_to_this_person': 'NaN', 'exercised_stock_options': 1030329, 'from_messages': 'NaN', 'other': 'NaN', 'from_this_person_to_poi': 'NaN', 'poi': False, 'long_term_incentive': 'NaN', 'shared_receipt_with_poi': 'NaN', 'restricted_stock': 'NaN', 'director_fees': 'NaN'}, 'WALLS JR ROBERT H': {'salary': 357091, 'to_messages': 671, 'deferral_payments': 'NaN', 'total_payments': 1798780, 'loan_advances': 'NaN', 'bonus': 850000, 'email_address': 'rob.walls@enron.com', 'restricted_stock_deferred': 'NaN', 'deferred_income': 'NaN', 'total_stock_value': 5898997, 'expenses': 50936, 'from_poi_to_this_person': 17, 'exercised_stock_options': 4346544, 'from_messages': 146, 'other': 2, 'from_this_person_to_poi': 0, 'poi': False, 'long_term_incentive': 540751, 'shared_receipt_with_poi': 215, 'restricted_stock': 1552453, 'director_fees': 'NaN'}, 'KITCHEN LOUISE': {'salary': 271442, 'to_messages': 8305, 'deferral_payments': 'NaN', 'total_payments': 3471141, 'loan_advances': 'NaN', 'bonus': 3100000, 'email_address': 'louise.kitchen@enron.com', 'restricted_stock_deferred': 'NaN', 'deferred_income': 'NaN', 'total_stock_value': 547143, 'expenses': 5774, 'from_poi_to_this_person': 251, 'exercised_stock_options': 81042, 'from_messages': 1728, 'other': 93925, 'from_this_person_to_poi': 194, 'poi': False, 'long_term_incentive': 'NaN', 'shared_receipt_with_poi': 3669, 'restricted_stock': 466101, 'director_fees': 'NaN'}, 'CHAN RONNIE': {'salary': 'NaN', 'to_messages': 'NaN', 'deferral_payments': 'NaN', 'total_payments': 'NaN', 'loan_advances': 'NaN', 'bonus': 'NaN', 'email_address': 'NaN', 'restricted_stock_deferred': -32460, 'deferred_income': -98784, 'total_stock_value': 'NaN', 'expenses': 'NaN', 'from_poi_to_this_person': 'NaN', 'exercised_stock_options': 'NaN', 'from_messages': 'NaN', 'other': 'NaN', 'from_this_person_to_poi': 'NaN', 'poi': False, 'long_term_incentive': 'NaN', 'shared_receipt_with_poi': 'NaN', 'restricted_stock': 32460, 'director_fees': 98784}, 'BELFER ROBERT': {'salary': 'NaN', 'to_messages': 'NaN', 'deferral_payments': -102500, 'total_payments': 102500, 'loan_advances': 'NaN', 'bonus': 'NaN', 'email_address': 'NaN', 'restricted_stock_deferred': 44093, 'deferred_income': 'NaN', 'total_stock_value': -44093, 'expenses': 'NaN', 'from_poi_to_this_person': 'NaN', 'exercised_stock_options': 3285, 'from_messages': 'NaN', 'other': 'NaN', 'from_this_person_to_poi': 'NaN', 'poi': False, 'long_term_incentive': 'NaN', 'shared_receipt_with_poi': 'NaN', 'restricted_stock': 'NaN', 'director_fees': 3285}, 'SHANKMAN JEFFREY A': {'salary': 304110, 'to_messages': 3221, 'deferral_payments': 'NaN', 'total_payments': 3038702, 'loan_advances': 'NaN', 'bonus': 2000000, 'email_address': 'jeffrey.shankman@enron.com', 'restricted_stock_deferred': 'NaN', 'deferred_income': 'NaN', 'total_stock_value': 2072035, 'expenses': 178979, 'from_poi_to_this_person': 94, 'exercised_stock_options': 1441898, 'from_messages': 2681, 'other': 1191, 'from_this_person_to_poi': 83, 'poi': False, 'long_term_incentive': 554422, 'shared_receipt_with_poi': 1730, 'restricted_stock': 630137, 'director_fees': 'NaN'}, 'WODRASKA JOHN': {'salary': 'NaN', 'to_messages': 'NaN', 'deferral_payments': 'NaN', 'total_payments': 189583, 'loan_advances': 'NaN', 'bonus': 'NaN', 'email_address': 'john.wodraska@enron.com', 'restricted_stock_deferred': 'NaN', 'deferred_income': 'NaN', 'total_stock_value': 'NaN', 'expenses': 'NaN', 'from_poi_to_this_person': 'NaN', 'exercised_stock_options': 'NaN', 'from_messages': 'NaN', 'other': 189583, 'from_this_person_to_poi': 'NaN', 'poi': False, 'long_term_incentive': 'NaN', 'shared_receipt_with_poi': 'NaN', 'restricted_stock': 'NaN', 'director_fees': 'NaN'}, 'BERGSIEKER RICHARD P': {'salary': 187922, 'to_messages': 383, 'deferral_payments': 'NaN', 'total_payments': 618850, 'loan_advances': 'NaN', 'bonus': 250000, 'email_address': 'rick.bergsieker@enron.com', 'restricted_stock_deferred': 'NaN', 'deferred_income': -485813, 'total_stock_value': 659249, 'expenses': 59175, 'from_poi_to_this_person': 4, 'exercised_stock_options': 'NaN', 'from_messages': 59, 'other': 427316, 'from_this_person_to_poi': 0, 'poi': False, 'long_term_incentive': 180250, 'shared_receipt_with_poi': 233, 'restricted_stock': 659249, 'director_fees': 'NaN'}, 'URQUHART JOHN A': {'salary': 'NaN', 'to_messages': 'NaN', 'deferral_payments': 'NaN', 'total_payments': 228656, 'loan_advances': 'NaN', 'bonus': 'NaN', 'email_address': 'NaN', 'restricted_stock_deferred': 'NaN', 'deferred_income': -36666, 'total_stock_value': 'NaN', 'expenses': 228656, 'from_poi_to_this_person': 'NaN', 'exercised_stock_options': 'NaN', 'from_messages': 'NaN', 'other': 'NaN', 'from_this_person_to_poi': 'NaN', 'poi': False, 'long_term_incentive': 'NaN', 'shared_receipt_with_poi': 'NaN', 'restricted_stock': 'NaN', 'director_fees': 36666}, 'BIBI PHILIPPE A': {'salary': 213625, 'to_messages': 1607, 'deferral_payments': 'NaN', 'total_payments': 2047593, 'loan_advances': 'NaN', 'bonus': 1000000, 'email_address': 'philippe.bibi@enron.com', 'restricted_stock_deferred': 'NaN', 'deferred_income': 'NaN', 'total_stock_value': 1843816, 'expenses': 38559, 'from_poi_to_this_person': 23, 'exercised_stock_options': 1465734, 'from_messages': 40, 'other': 425688, 'from_this_person_to_poi': 8, 'poi': False, 'long_term_incentive': 369721, 'shared_receipt_with_poi': 1336, 'restricted_stock': 378082, 'director_fees': 'NaN'}, 'RIEKER PAULA H': {'salary': 249201, 'to_messages': 1328, 'deferral_payments': 214678, 'total_payments': 1099100, 'loan_advances': 'NaN', 'bonus': 700000, 'email_address': 'paula.rieker@enron.com', 'restricted_stock_deferred': 'NaN', 'deferred_income': -100000, 'total_stock_value': 1918887, 'expenses': 33271, 'from_poi_to_this_person': 35, 'exercised_stock_options': 1635238, 'from_messages': 82, 'other': 1950, 'from_this_person_to_poi': 48, 'poi': True, 'long_term_incentive': 'NaN', 'shared_receipt_with_poi': 1258, 'restricted_stock': 283649, 'director_fees': 'NaN'}, 'WHALEY DAVID A': {'salary': 'NaN', 'to_messages': 'NaN', 'deferral_payments': 'NaN', 'total_payments': 'NaN', 'loan_advances': 'NaN', 'bonus': 'NaN', 'email_address': 'NaN', 'restricted_stock_deferred': 'NaN', 'deferred_income': 'NaN', 'total_stock_value': 98718, 'expenses': 'NaN', 'from_poi_to_this_person': 'NaN', 'exercised_stock_options': 98718, 'from_messages': 'NaN', 'other': 'NaN', 'from_this_person_to_poi': 'NaN', 'poi': False, 'long_term_incentive': 'NaN', 'shared_receipt_with_poi': 'NaN', 'restricted_stock': 'NaN', 'director_fees': 'NaN'}, 'BECK SALLY W': {'salary': 231330, 'to_messages': 7315, 'deferral_payments': 'NaN', 'total_payments': 969068, 'loan_advances': 'NaN', 'bonus': 700000, 'email_address': 'sally.beck@enron.com', 'restricted_stock_deferred': 'NaN', 'deferred_income': 'NaN', 'total_stock_value': 126027, 'expenses': 37172, 'from_poi_to_this_person': 144, 'exercised_stock_options': 'NaN', 'from_messages': 4343, 'other': 566, 'from_this_person_to_poi': 386, 'poi': False, 'long_term_incentive': 'NaN', 'shared_receipt_with_poi': 2639, 'restricted_stock': 126027, 'director_fees': 'NaN'}, 'HAUG DAVID L': {'salary': 'NaN', 'to_messages': 573, 'deferral_payments': 'NaN', 'total_payments': 475, 'loan_advances': 'NaN', 'bonus': 'NaN', 'email_address': 'david.haug@enron.com', 'restricted_stock_deferred': 'NaN', 'deferred_income': 'NaN', 'total_stock_value': 2217299, 'expenses': 475, 'from_poi_to_this_person': 4, 'exercised_stock_options': 'NaN', 'from_messages': 19, 'other': 'NaN', 'from_this_person_to_poi': 7, 'poi': False, 'long_term_incentive': 'NaN', 'shared_receipt_with_poi': 471, 'restricted_stock': 2217299, 'director_fees': 'NaN'}, 'ECHOLS JOHN B': {'salary': 182245, 'to_messages': 'NaN', 'deferral_payments': 'NaN', 'total_payments': 2692324, 'loan_advances': 'NaN', 'bonus': 200000, 'email_address': 'john.echols@enron.com', 'restricted_stock_deferred': 'NaN', 'deferred_income': 'NaN', 'total_stock_value': 1008941, 'expenses': 21530, 'from_poi_to_this_person': 'NaN', 'exercised_stock_options': 601438, 'from_messages': 'NaN', 'other': 53775, 'from_this_person_to_poi': 'NaN', 'poi': False, 'long_term_incentive': 2234774, 'shared_receipt_with_poi': 'NaN', 'restricted_stock': 407503, 'director_fees': 'NaN'}, 'MENDELSOHN JOHN': {'salary': 'NaN', 'to_messages': 'NaN', 'deferral_payments': 'NaN', 'total_payments': 148, 'loan_advances': 'NaN', 'bonus': 'NaN', 'email_address': 'NaN', 'restricted_stock_deferred': 'NaN', 'deferred_income': -103750, 'total_stock_value': 'NaN', 'expenses': 148, 'from_poi_to_this_person': 'NaN', 'exercised_stock_options': 'NaN', 'from_messages': 'NaN', 'other': 'NaN', 'from_this_person_to_poi': 'NaN', 'poi': False, 'long_term_incentive': 'NaN', 'shared_receipt_with_poi': 'NaN', 'restricted_stock': 'NaN', 'director_fees': 103750}, 'HICKERSON GARY J': {'salary': 211788, 'to_messages': 1320, 'deferral_payments': 'NaN', 'total_payments': 2081796, 'loan_advances': 'NaN', 'bonus': 1700000, 'email_address': 'gary.hickerson@enron.com', 'restricted_stock_deferred': 'NaN', 'deferred_income': 'NaN', 'total_stock_value': 441096, 'expenses': 98849, 'from_poi_to_this_person': 40, 'exercised_stock_options': 'NaN', 'from_messages': 27, 'other': 1936, 'from_this_person_to_poi': 1, 'poi': False, 'long_term_incentive': 69223, 'shared_receipt_with_poi': 900, 'restricted_stock': 441096, 'director_fees': 'NaN'}, 'CLINE KENNETH W': {'salary': 'NaN', 'to_messages': 'NaN', 'deferral_payments': 'NaN', 'total_payments': 'NaN', 'loan_advances': 'NaN', 'bonus': 'NaN', 'email_address': 'NaN', 'restricted_stock_deferred': -472568, 'deferred_income': 'NaN', 'total_stock_value': 189518, 'expenses': 'NaN', 'from_poi_to_this_person': 'NaN', 'exercised_stock_options': 'NaN', 'from_messages': 'NaN', 'other': 'NaN', 'from_this_person_to_poi': 'NaN', 'poi': False, 'long_term_incentive': 'NaN', 'shared_receipt_with_poi': 'NaN', 'restricted_stock': 662086, 'director_fees': 'NaN'}, 'LEWIS RICHARD': {'salary': 'NaN', 'to_messages': 952, 'deferral_payments': 'NaN', 'total_payments': 'NaN', 'loan_advances': 'NaN', 'bonus': 'NaN', 'email_address': 'richard.lewis@enron.com', 'restricted_stock_deferred': 'NaN', 'deferred_income': 'NaN', 'total_stock_value': 850477, 'expenses': 'NaN', 'from_poi_to_this_person': 10, 'exercised_stock_options': 850477, 'from_messages': 26, 'other': 'NaN', 'from_this_person_to_poi': 0, 'poi': False, 'long_term_incentive': 'NaN', 'shared_receipt_with_poi': 739, 'restricted_stock': 'NaN', 'director_fees': 'NaN'}, 'HAYES ROBERT E': {'salary': 'NaN', 'to_messages': 504, 'deferral_payments': 7961, 'total_payments': 7961, 'loan_advances': 'NaN', 'bonus': 'NaN', 'email_address': 'robert.hayes@enron.com', 'restricted_stock_deferred': 'NaN', 'deferred_income': 'NaN', 'total_stock_value': 151418, 'expenses': 'NaN', 'from_poi_to_this_person': 16, 'exercised_stock_options': 'NaN', 'from_messages': 12, 'other': 'NaN', 'from_this_person_to_poi': 0, 'poi': False, 'long_term_incentive': 'NaN', 'shared_receipt_with_poi': 50, 'restricted_stock': 151418, 'director_fees': 'NaN'}, 'KOPPER MICHAEL J': {'salary': 224305, 'to_messages': 'NaN', 'deferral_payments': 'NaN', 'total_payments': 2652612, 'loan_advances': 'NaN', 'bonus': 800000, 'email_address': 'michael.kopper@enron.com', 'restricted_stock_deferred': 'NaN', 'deferred_income': 'NaN', 'total_stock_value': 985032, 'expenses': 118134, 'from_poi_to_this_person': 'NaN', 'exercised_stock_options': 'NaN', 'from_messages': 'NaN', 'other': 907502, 'from_this_person_to_poi': 'NaN', 'poi': True, 'long_term_incentive': 602671, 'shared_receipt_with_poi': 'NaN', 'restricted_stock': 985032, 'director_fees': 'NaN'}, 'LEFF DANIEL P': {'salary': 273746, 'to_messages': 2822, 'deferral_payments': 'NaN', 'total_payments': 2664228, 'loan_advances': 'NaN', 'bonus': 1000000, 'email_address': 'dan.leff@enron.com', 'restricted_stock_deferred': 'NaN', 'deferred_income': 'NaN', 'total_stock_value': 360528, 'expenses': 'NaN', 'from_poi_to_this_person': 67, 'exercised_stock_options': 'NaN', 'from_messages': 63, 'other': 3083, 'from_this_person_to_poi': 14, 'poi': False, 'long_term_incentive': 1387399, 'shared_receipt_with_poi': 2672, 'restricted_stock': 360528, 'director_fees': 'NaN'}, 'LAVORATO JOHN J': {'salary': 339288, 'to_messages': 7259, 'deferral_payments': 'NaN', 'total_payments': 10425757, 'loan_advances': 'NaN', 'bonus': 8000000, 'email_address': 'john.lavorato@enron.com', 'restricted_stock_deferred': 'NaN', 'deferred_income': 'NaN', 'total_stock_value': 5167144, 'expenses': 49537, 'from_poi_to_this_person': 528, 'exercised_stock_options': 4158995, 'from_messages': 2585, 'other': 1552, 'from_this_person_to_poi': 411, 'poi': False, 'long_term_incentive': 2035380, 'shared_receipt_with_poi': 3962, 'restricted_stock': 1008149, 'director_fees': 'NaN'}, 'BERBERIAN DAVID': {'salary': 216582, 'to_messages': 'NaN', 'deferral_payments': 'NaN', 'total_payments': 228474, 'loan_advances': 'NaN', 'bonus': 'NaN', 'email_address': 'david.berberian@enron.com', 'restricted_stock_deferred': 'NaN', 'deferred_income': 'NaN', 'total_stock_value': 2493616, 'expenses': 11892, 'from_poi_to_this_person': 'NaN', 'exercised_stock_options': 1624396, 'from_messages': 'NaN', 'other': 'NaN', 'from_this_person_to_poi': 'NaN', 'poi': False, 'long_term_incentive': 'NaN', 'shared_receipt_with_poi': 'NaN', 'restricted_stock': 869220, 'director_fees': 'NaN'}, 'DETMERING TIMOTHY J': {'salary': 210500, 'to_messages': 'NaN', 'deferral_payments': 875307, 'total_payments': 1204583, 'loan_advances': 'NaN', 'bonus': 425000, 'email_address': 'timothy.detmering@enron.com', 'restricted_stock_deferred': -315068, 'deferred_income': -775241, 'total_stock_value': 2027865, 'expenses': 52255, 'from_poi_to_this_person': 'NaN', 'exercised_stock_options': 2027865, 'from_messages': 'NaN', 'other': 1105, 'from_this_person_to_poi': 'NaN', 'poi': False, 'long_term_incentive': 415657, 'shared_receipt_with_poi': 'NaN', 'restricted_stock': 315068, 'director_fees': 'NaN'}, 'WAKEHAM JOHN': {'salary': 'NaN', 'to_messages': 'NaN', 'deferral_payments': 'NaN', 'total_payments': 213071, 'loan_advances': 'NaN', 'bonus': 'NaN', 'email_address': 'NaN', 'restricted_stock_deferred': 'NaN', 'deferred_income': 'NaN', 'total_stock_value': 'NaN', 'expenses': 103773, 'from_poi_to_this_person': 'NaN', 'exercised_stock_options': 'NaN', 'from_messages': 'NaN', 'other': 'NaN', 'from_this_person_to_poi': 'NaN', 'poi': False, 'long_term_incentive': 'NaN', 'shared_receipt_with_poi': 'NaN', 'restricted_stock': 'NaN', 'director_fees': 109298}, 'POWERS WILLIAM': {'salary': 'NaN', 'to_messages': 653, 'deferral_payments': 'NaN', 'total_payments': 'NaN', 'loan_advances': 'NaN', 'bonus': 'NaN', 'email_address': 'ken.powers@enron.com', 'restricted_stock_deferred': 'NaN', 'deferred_income': -17500, 'total_stock_value': 'NaN', 'expenses': 'NaN', 'from_poi_to_this_person': 0, 'exercised_stock_options': 'NaN', 'from_messages': 26, 'other': 'NaN', 'from_this_person_to_poi': 0, 'poi': False, 'long_term_incentive': 'NaN', 'shared_receipt_with_poi': 12, 'restricted_stock': 'NaN', 'director_fees': 17500}, 'GOLD JOSEPH': {'salary': 272880, 'to_messages': 'NaN', 'deferral_payments': 'NaN', 'total_payments': 2146973, 'loan_advances': 'NaN', 'bonus': 750000, 'email_address': 'joe.gold@enron.com', 'restricted_stock_deferred': 'NaN', 'deferred_income': 'NaN', 'total_stock_value': 877611, 'expenses': 'NaN', 'from_poi_to_this_person': 'NaN', 'exercised_stock_options': 436515, 'from_messages': 'NaN', 'other': 819288, 'from_this_person_to_poi': 'NaN', 'poi': False, 'long_term_incentive': 304805, 'shared_receipt_with_poi': 'NaN', 'restricted_stock': 441096, 'director_fees': 'NaN'}, 'BANNANTINE JAMES M': {'salary': 477, 'to_messages': 566, 'deferral_payments': 'NaN', 'total_payments': 916197, 'loan_advances': 'NaN', 'bonus': 'NaN', 'email_address': 'james.bannantine@enron.com', 'restricted_stock_deferred': -560222, 'deferred_income': -5104, 'total_stock_value': 5243487, 'expenses': 56301, 'from_poi_to_this_person': 39, 'exercised_stock_options': 4046157, 'from_messages': 29, 'other': 864523, 'from_this_person_to_poi': 0, 'poi': False, 'long_term_incentive': 'NaN', 'shared_receipt_with_poi': 465, 'restricted_stock': 1757552, 'director_fees': 'NaN'}, 'DUNCAN JOHN H': {'salary': 'NaN', 'to_messages': 'NaN', 'deferral_payments': 'NaN', 'total_payments': 77492, 'loan_advances': 'NaN', 'bonus': 'NaN', 'email_address': 'NaN', 'restricted_stock_deferred': 'NaN', 'deferred_income': -25000, 'total_stock_value': 371750, 'expenses': 'NaN', 'from_poi_to_this_person': 'NaN', 'exercised_stock_options': 371750, 'from_messages': 'NaN', 'other': 'NaN', 'from_this_person_to_poi': 'NaN', 'poi': False, 'long_term_incentive': 'NaN', 'shared_receipt_with_poi': 'NaN', 'restricted_stock': 'NaN', 'director_fees': 102492}, 'SHAPIRO RICHARD S': {'salary': 269076, 'to_messages': 15149, 'deferral_payments': 'NaN', 'total_payments': 1057548, 'loan_advances': 'NaN', 'bonus': 650000, 'email_address': 'richard.shapiro@enron.com', 'restricted_stock_deferred': 'NaN', 'deferred_income': 'NaN', 'total_stock_value': 987001, 'expenses': 137767, 'from_poi_to_this_person': 74, 'exercised_stock_options': 607837, 'from_messages': 1215, 'other': 705, 'from_this_person_to_poi': 65, 'poi': False, 'long_term_incentive': 'NaN', 'shared_receipt_with_poi': 4527, 'restricted_stock': 379164, 'director_fees': 'NaN'}, 'SHERRIFF JOHN R': {'salary': 428780, 'to_messages': 3187, 'deferral_payments': 'NaN', 'total_payments': 4335388, 'loan_advances': 'NaN', 'bonus': 1500000, 'email_address': 'john.sherriff@enron.com', 'restricted_stock_deferred': 'NaN', 'deferred_income': 'NaN', 'total_stock_value': 3128982, 'expenses': 'NaN', 'from_poi_to_this_person': 28, 'exercised_stock_options': 1835558, 'from_messages': 92, 'other': 1852186, 'from_this_person_to_poi': 23, 'poi': False, 'long_term_incentive': 554422, 'shared_receipt_with_poi': 2103, 'restricted_stock': 1293424, 'director_fees': 'NaN'}, 'SHELBY REX': {'salary': 211844, 'to_messages': 225, 'deferral_payments': 'NaN', 'total_payments': 2003885, 'loan_advances': 'NaN', 'bonus': 200000, 'email_address': 'rex.shelby@enron.com', 'restricted_stock_deferred': 'NaN', 'deferred_income': -4167, 'total_stock_value': 2493616, 'expenses': 22884, 'from_poi_to_this_person': 13, 'exercised_stock_options': 1624396, 'from_messages': 39, 'other': 1573324, 'from_this_person_to_poi': 14, 'poi': True, 'long_term_incentive': 'NaN', 'shared_receipt_with_poi': 91, 'restricted_stock': 869220, 'director_fees': 'NaN'}, 'LEMAISTRE CHARLES': {'salary': 'NaN', 'to_messages': 'NaN', 'deferral_payments': 'NaN', 'total_payments': 87492, 'loan_advances': 'NaN', 'bonus': 'NaN', 'email_address': 'NaN', 'restricted_stock_deferred': 'NaN', 'deferred_income': -25000, 'total_stock_value': 412878, 'expenses': 'NaN', 'from_poi_to_this_person': 'NaN', 'exercised_stock_options': 412878, 'from_messages': 'NaN', 'other': 'NaN', 'from_this_person_to_poi': 'NaN', 'poi': False, 'long_term_incentive': 'NaN', 'shared_receipt_with_poi': 'NaN', 'restricted_stock': 'NaN', 'director_fees': 112492}, 'DEFFNER JOSEPH M': {'salary': 206121, 'to_messages': 714, 'deferral_payments': 'NaN', 'total_payments': 1208649, 'loan_advances': 'NaN', 'bonus': 600000, 'email_address': 'joseph.deffner@enron.com', 'restricted_stock_deferred': 'NaN', 'deferred_income': 'NaN', 'total_stock_value': 159211, 'expenses': 41626, 'from_poi_to_this_person': 115, 'exercised_stock_options': 17378, 'from_messages': 74, 'other': 25553, 'from_this_person_to_poi': 4, 'poi': False, 'long_term_incentive': 335349, 'shared_receipt_with_poi': 552, 'restricted_stock': 141833, 'director_fees': 'NaN'}, 'KISHKILL JOSEPH G': {'salary': 174246, 'to_messages': 'NaN', 'deferral_payments': 'NaN', 'total_payments': 704896, 'loan_advances': 'NaN', 'bonus': 'NaN', 'email_address': 'joe.kishkill@enron.com', 'restricted_stock_deferred': 'NaN', 'deferred_income': -51042, 'total_stock_value': 1034346, 'expenses': 116335, 'from_poi_to_this_person': 'NaN', 'exercised_stock_options': 'NaN', 'from_messages': 'NaN', 'other': 465357, 'from_this_person_to_poi': 'NaN', 'poi': False, 'long_term_incentive': 'NaN', 'shared_receipt_with_poi': 'NaN', 'restricted_stock': 1034346, 'director_fees': 'NaN'}, 'WHALLEY LAWRENCE G': {'salary': 510364, 'to_messages': 6019, 'deferral_payments': 'NaN', 'total_payments': 4677574, 'loan_advances': 'NaN', 'bonus': 3000000, 'email_address': 'greg.whalley@enron.com', 'restricted_stock_deferred': 'NaN', 'deferred_income': 'NaN', 'total_stock_value': 6079137, 'expenses': 57838, 'from_poi_to_this_person': 186, 'exercised_stock_options': 3282960, 'from_messages': 556, 'other': 301026, 'from_this_person_to_poi': 24, 'poi': False, 'long_term_incentive': 808346, 'shared_receipt_with_poi': 3920, 'restricted_stock': 2796177, 'director_fees': 'NaN'}, 'MCCONNELL MICHAEL S': {'salary': 365038, 'to_messages': 3329, 'deferral_payments': 'NaN', 'total_payments': 2101364, 'loan_advances': 'NaN', 'bonus': 1100000, 'email_address': 'mike.mcconnell@enron.com', 'restricted_stock_deferred': 'NaN', 'deferred_income': 'NaN', 'total_stock_value': 3101279, 'expenses': 81364, 'from_poi_to_this_person': 92, 'exercised_stock_options': 1623010, 'from_messages': 2742, 'other': 540, 'from_this_person_to_poi': 194, 'poi': False, 'long_term_incentive': 554422, 'shared_receipt_with_poi': 2189, 'restricted_stock': 1478269, 'director_fees': 'NaN'}, 'PIRO JIM': {'salary': 'NaN', 'to_messages': 58, 'deferral_payments': 'NaN', 'total_payments': 'NaN', 'loan_advances': 'NaN', 'bonus': 'NaN', 'email_address': 'jim.piro@enron.com', 'restricted_stock_deferred': 'NaN', 'deferred_income': 'NaN', 'total_stock_value': 47304, 'expenses': 'NaN', 'from_poi_to_this_person': 0, 'exercised_stock_options': 'NaN', 'from_messages': 16, 'other': 'NaN', 'from_this_person_to_poi': 1, 'poi': False, 'long_term_incentive': 'NaN', 'shared_receipt_with_poi': 3, 'restricted_stock': 47304, 'director_fees': 'NaN'}, 'DELAINEY DAVID W': {'salary': 365163, 'to_messages': 3093, 'deferral_payments': 'NaN', 'total_payments': 4747979, 'loan_advances': 'NaN', 'bonus': 3000000, 'email_address': 'david.delainey@enron.com', 'restricted_stock_deferred': 'NaN', 'deferred_income': 'NaN', 'total_stock_value': 3614261, 'expenses': 86174, 'from_poi_to_this_person': 66, 'exercised_stock_options': 2291113, 'from_messages': 3069, 'other': 1661, 'from_this_person_to_poi': 609, 'poi': True, 'long_term_incentive': 1294981, 'shared_receipt_with_poi': 2097, 'restricted_stock': 1323148, 'director_fees': 'NaN'}, 'SULLIVAN-SHAKLOVITZ COLLEEN': {'salary': 162779, 'to_messages': 'NaN', 'deferral_payments': 181993, 'total_payments': 999356, 'loan_advances': 'NaN', 'bonus': 100000, 'email_address': 'NaN', 'restricted_stock_deferred': 'NaN', 'deferred_income': 'NaN', 'total_stock_value': 1362375, 'expenses': 'NaN', 'from_poi_to_this_person': 'NaN', 'exercised_stock_options': 1362375, 'from_messages': 'NaN', 'other': 162, 'from_this_person_to_poi': 'NaN', 'poi': False, 'long_term_incentive': 554422, 'shared_receipt_with_poi': 'NaN', 'restricted_stock': 'NaN', 'director_fees': 'NaN'}, 'WROBEL BRUCE': {'salary': 'NaN', 'to_messages': 'NaN', 'deferral_payments': 'NaN', 'total_payments': 'NaN', 'loan_advances': 'NaN', 'bonus': 'NaN', 'email_address': 'NaN', 'restricted_stock_deferred': 'NaN', 'deferred_income': 'NaN', 'total_stock_value': 139130, 'expenses': 'NaN', 'from_poi_to_this_person': 'NaN', 'exercised_stock_options': 139130, 'from_messages': 'NaN', 'other': 'NaN', 'from_this_person_to_poi': 'NaN', 'poi': False, 'long_term_incentive': 'NaN', 'shared_receipt_with_poi': 'NaN', 'restricted_stock': 'NaN', 'director_fees': 'NaN'}, 'LINDHOLM TOD A': {'salary': 236457, 'to_messages': 'NaN', 'deferral_payments': 204075, 'total_payments': 875889, 'loan_advances': 'NaN', 'bonus': 200000, 'email_address': 'tod.lindholm@enron.com', 'restricted_stock_deferred': 'NaN', 'deferred_income': 'NaN', 'total_stock_value': 3064208, 'expenses': 57727, 'from_poi_to_this_person': 'NaN', 'exercised_stock_options': 2549361, 'from_messages': 'NaN', 'other': 2630, 'from_this_person_to_poi': 'NaN', 'poi': False, 'long_term_incentive': 175000, 'shared_receipt_with_poi': 'NaN', 'restricted_stock': 514847, 'director_fees': 'NaN'}, 'MEYER JEROME J': {'salary': 'NaN', 'to_messages': 'NaN', 'deferral_payments': 'NaN', 'total_payments': 2151, 'loan_advances': 'NaN', 'bonus': 'NaN', 'email_address': 'NaN', 'restricted_stock_deferred': 'NaN', 'deferred_income': -38346, 'total_stock_value': 'NaN', 'expenses': 2151, 'from_poi_to_this_person': 'NaN', 'exercised_stock_options': 'NaN', 'from_messages': 'NaN', 'other': 'NaN', 'from_this_person_to_poi': 'NaN', 'poi': False, 'long_term_incentive': 'NaN', 'shared_receipt_with_poi': 'NaN', 'restricted_stock': 'NaN', 'director_fees': 38346}, 'LAY KENNETH L': {'salary': 1072321, 'to_messages': 4273, 'deferral_payments': 202911, 'total_payments': 103559793, 'loan_advances': 81525000, 'bonus': 7000000, 'email_address': 'kenneth.lay@enron.com', 'restricted_stock_deferred': 'NaN', 'deferred_income': -300000, 'total_stock_value': 49110078, 'expenses': 99832, 'from_poi_to_this_person': 123, 'exercised_stock_options': 34348384, 'from_messages': 36, 'other': 10359729, 'from_this_person_to_poi': 16, 'poi': True, 'long_term_incentive': 3600000, 'shared_receipt_with_poi': 2411, 'restricted_stock': 14761694, 'director_fees': 'NaN'}, 'BUTTS ROBERT H': {'salary': 261516, 'to_messages': 'NaN', 'deferral_payments': 'NaN', 'total_payments': 1271582, 'loan_advances': 'NaN', 'bonus': 750000, 'email_address': 'bob.butts@enron.com', 'restricted_stock_deferred': 'NaN', 'deferred_income': -75000, 'total_stock_value': 417619, 'expenses': 9410, 'from_poi_to_this_person': 'NaN', 'exercised_stock_options': 'NaN', 'from_messages': 'NaN', 'other': 150656, 'from_this_person_to_poi': 'NaN', 'poi': False, 'long_term_incentive': 175000, 'shared_receipt_with_poi': 'NaN', 'restricted_stock': 417619, 'director_fees': 'NaN'}, 'OLSON CINDY K': {'salary': 329078, 'to_messages': 1184, 'deferral_payments': 77716, 'total_payments': 1321557, 'loan_advances': 'NaN', 'bonus': 750000, 'email_address': 'cindy.olson@enron.com', 'restricted_stock_deferred': 'NaN', 'deferred_income': 'NaN', 'total_stock_value': 2606763, 'expenses': 63791, 'from_poi_to_this_person': 20, 'exercised_stock_options': 1637034, 'from_messages': 52, 'other': 972, 'from_this_person_to_poi': 15, 'poi': False, 'long_term_incentive': 100000, 'shared_receipt_with_poi': 856, 'restricted_stock': 969729, 'director_fees': 'NaN'}, 'MCDONALD REBECCA': {'salary': 'NaN', 'to_messages': 894, 'deferral_payments': 'NaN', 'total_payments': 'NaN', 'loan_advances': 'NaN', 'bonus': 'NaN', 'email_address': 'rebecca.mcdonald@enron.com', 'restricted_stock_deferred': 'NaN', 'deferred_income': 'NaN', 'total_stock_value': 1691366, 'expenses': 'NaN', 'from_poi_to_this_person': 54, 'exercised_stock_options': 757301, 'from_messages': 13, 'other': 'NaN', 'from_this_person_to_poi': 1, 'poi': False, 'long_term_incentive': 'NaN', 'shared_receipt_with_poi': 720, 'restricted_stock': 934065, 'director_fees': 'NaN'}, 'CUMBERLAND MICHAEL S': {'salary': 184899, 'to_messages': 'NaN', 'deferral_payments': 'NaN', 'total_payments': 807956, 'loan_advances': 'NaN', 'bonus': 325000, 'email_address': 'NaN', 'restricted_stock_deferred': 'NaN', 'deferred_income': 'NaN', 'total_stock_value': 207940, 'expenses': 22344, 'from_poi_to_this_person': 'NaN', 'exercised_stock_options': 'NaN', 'from_messages': 'NaN', 'other': 713, 'from_this_person_to_poi': 'NaN', 'poi': False, 'long_term_incentive': 275000, 'shared_receipt_with_poi': 'NaN', 'restricted_stock': 207940, 'director_fees': 'NaN'}, 'GAHN ROBERT S': {'salary': 192008, 'to_messages': 'NaN', 'deferral_payments': 73122, 'total_payments': 900585, 'loan_advances': 'NaN', 'bonus': 509870, 'email_address': 'NaN', 'restricted_stock_deferred': 'NaN', 'deferred_income': -1042, 'total_stock_value': 318607, 'expenses': 50080, 'from_poi_to_this_person': 'NaN', 'exercised_stock_options': 83237, 'from_messages': 'NaN', 'other': 76547, 'from_this_person_to_poi': 'NaN', 'poi': False, 'long_term_incentive': 'NaN', 'shared_receipt_with_poi': 'NaN', 'restricted_stock': 235370, 'director_fees': 'NaN'}, 'BADUM JAMES P': {'salary': 'NaN', 'to_messages': 'NaN', 'deferral_payments': 178980, 'total_payments': 182466, 'loan_advances': 'NaN', 'bonus': 'NaN', 'email_address': 'NaN', 'restricted_stock_deferred': 'NaN', 'deferred_income': 'NaN', 'total_stock_value': 257817, 'expenses': 3486, 'from_poi_to_this_person': 'NaN', 'exercised_stock_options': 257817, 'from_messages': 'NaN', 'other': 'NaN', 'from_this_person_to_poi': 'NaN', 'poi': False, 'long_term_incentive': 'NaN', 'shared_receipt_with_poi': 'NaN', 'restricted_stock': 'NaN', 'director_fees': 'NaN'}, 'HERMANN ROBERT J': {'salary': 262663, 'to_messages': 'NaN', 'deferral_payments': 'NaN', 'total_payments': 1297461, 'loan_advances': 'NaN', 'bonus': 700000, 'email_address': 'robert.hermann@enron.com', 'restricted_stock_deferred': 'NaN', 'deferred_income': -280000, 'total_stock_value': 668132, 'expenses': 48357, 'from_poi_to_this_person': 'NaN', 'exercised_stock_options': 187500, 'from_messages': 'NaN', 'other': 416441, 'from_this_person_to_poi': 'NaN', 'poi': False, 'long_term_incentive': 150000, 'shared_receipt_with_poi': 'NaN', 'restricted_stock': 480632, 'director_fees': 'NaN'}, 'FALLON JAMES B': {'salary': 304588, 'to_messages': 1755, 'deferral_payments': 'NaN', 'total_payments': 3676340, 'loan_advances': 'NaN', 'bonus': 2500000, 'email_address': 'jim.fallon@enron.com', 'restricted_stock_deferred': 'NaN', 'deferred_income': 'NaN', 'total_stock_value': 2332399, 'expenses': 95924, 'from_poi_to_this_person': 42, 'exercised_stock_options': 940257, 'from_messages': 75, 'other': 401481, 'from_this_person_to_poi': 37, 'poi': False, 'long_term_incentive': 374347, 'shared_receipt_with_poi': 1604, 'restricted_stock': 1392142, 'director_fees': 'NaN'}, 'GATHMANN WILLIAM D': {'salary': 'NaN', 'to_messages': 'NaN', 'deferral_payments': 'NaN', 'total_payments': 'NaN', 'loan_advances': 'NaN', 'bonus': 'NaN', 'email_address': 'NaN', 'restricted_stock_deferred': -72419, 'deferred_income': 'NaN', 'total_stock_value': 1945360, 'expenses': 'NaN', 'from_poi_to_this_person': 'NaN', 'exercised_stock_options': 1753766, 'from_messages': 'NaN', 'other': 'NaN', 'from_this_person_to_poi': 'NaN', 'poi': False, 'long_term_incentive': 'NaN', 'shared_receipt_with_poi': 'NaN', 'restricted_stock': 264013, 'director_fees': 'NaN'}, 'HORTON STANLEY C': {'salary': 'NaN', 'to_messages': 2350, 'deferral_payments': 3131860, 'total_payments': 3131860, 'loan_advances': 'NaN', 'bonus': 'NaN', 'email_address': 'stanley.horton@enron.com', 'restricted_stock_deferred': 'NaN', 'deferred_income': 'NaN', 'total_stock_value': 7256648, 'expenses': 'NaN', 'from_poi_to_this_person': 44, 'exercised_stock_options': 5210569, 'from_messages': 1073, 'other': 'NaN', 'from_this_person_to_poi': 15, 'poi': False, 'long_term_incentive': 'NaN', 'shared_receipt_with_poi': 1074, 'restricted_stock': 2046079, 'director_fees': 'NaN'}, 'BOWEN JR RAYMOND M': {'salary': 278601, 'to_messages': 1858, 'deferral_payments': 'NaN', 'total_payments': 2669589, 'loan_advances': 'NaN', 'bonus': 1350000, 'email_address': 'raymond.bowen@enron.com', 'restricted_stock_deferred': 'NaN', 'deferred_income': -833, 'total_stock_value': 252055, 'expenses': 65907, 'from_poi_to_this_person': 140, 'exercised_stock_options': 'NaN', 'from_messages': 27, 'other': 1621, 'from_this_person_to_poi': 15, 'poi': True, 'long_term_incentive': 974293, 'shared_receipt_with_poi': 1593, 'restricted_stock': 252055, 'director_fees': 'NaN'}, 'GILLIS JOHN': {'salary': 'NaN', 'to_messages': 'NaN', 'deferral_payments': 'NaN', 'total_payments': 'NaN', 'loan_advances': 'NaN', 'bonus': 'NaN', 'email_address': 'NaN', 'restricted_stock_deferred': 'NaN', 'deferred_income': 'NaN', 'total_stock_value': 85641, 'expenses': 'NaN', 'from_poi_to_this_person': 'NaN', 'exercised_stock_options': 9803, 'from_messages': 'NaN', 'other': 'NaN', 'from_this_person_to_poi': 'NaN', 'poi': False, 'long_term_incentive': 'NaN', 'shared_receipt_with_poi': 'NaN', 'restricted_stock': 75838, 'director_fees': 'NaN'}, 'FITZGERALD JAY L': {'salary': 199157, 'to_messages': 936, 'deferral_payments': 'NaN', 'total_payments': 1414857, 'loan_advances': 'NaN', 'bonus': 350000, 'email_address': 'jay.fitzgerald@enron.com', 'restricted_stock_deferred': 'NaN', 'deferred_income': 'NaN', 'total_stock_value': 1621236, 'expenses': 23870, 'from_poi_to_this_person': 1, 'exercised_stock_options': 664461, 'from_messages': 16, 'other': 285414, 'from_this_person_to_poi': 8, 'poi': False, 'long_term_incentive': 556416, 'shared_receipt_with_poi': 723, 'restricted_stock': 956775, 'director_fees': 'NaN'}, 'MORAN MICHAEL P': {'salary': 'NaN', 'to_messages': 672, 'deferral_payments': 'NaN', 'total_payments': 'NaN', 'loan_advances': 'NaN', 'bonus': 'NaN', 'email_address': 'michael.moran@enron.com', 'restricted_stock_deferred': 'NaN', 'deferred_income': 'NaN', 'total_stock_value': 221141, 'expenses': 'NaN', 'from_poi_to_this_person': 0, 'exercised_stock_options': 59539, 'from_messages': 19, 'other': 'NaN', 'from_this_person_to_poi': 0, 'poi': False, 'long_term_incentive': 'NaN', 'shared_receipt_with_poi': 127, 'restricted_stock': 161602, 'director_fees': 'NaN'}, 'REDMOND BRIAN L': {'salary': 96840, 'to_messages': 1671, 'deferral_payments': 'NaN', 'total_payments': 111529, 'loan_advances': 'NaN', 'bonus': 'NaN', 'email_address': 'brian.redmond@enron.com', 'restricted_stock_deferred': 'NaN', 'deferred_income': 'NaN', 'total_stock_value': 7890324, 'expenses': 14689, 'from_poi_to_this_person': 204, 'exercised_stock_options': 7509039, 'from_messages': 221, 'other': 'NaN', 'from_this_person_to_poi': 49, 'poi': False, 'long_term_incentive': 'NaN', 'shared_receipt_with_poi': 1063, 'restricted_stock': 381285, 'director_fees': 'NaN'}, 'BAZELIDES PHILIP J': {'salary': 80818, 'to_messages': 'NaN', 'deferral_payments': 684694, 'total_payments': 860136, 'loan_advances': 'NaN', 'bonus': 'NaN', 'email_address': 'NaN', 'restricted_stock_deferred': 'NaN', 'deferred_income': 'NaN', 'total_stock_value': 1599641, 'expenses': 'NaN', 'from_poi_to_this_person': 'NaN', 'exercised_stock_options': 1599641, 'from_messages': 'NaN', 'other': 874, 'from_this_person_to_poi': 'NaN', 'poi': False, 'long_term_incentive': 93750, 'shared_receipt_with_poi': 'NaN', 'restricted_stock': 'NaN', 'director_fees': 'NaN'}, 'BELDEN TIMOTHY N': {'salary': 213999, 'to_messages': 7991, 'deferral_payments': 2144013, 'total_payments': 5501630, 'loan_advances': 'NaN', 'bonus': 5249999, 'email_address': 'tim.belden@enron.com', 'restricted_stock_deferred': 'NaN', 'deferred_income': -2334434, 'total_stock_value': 1110705, 'expenses': 17355, 'from_poi_to_this_person': 228, 'exercised_stock_options': 953136, 'from_messages': 484, 'other': 210698, 'from_this_person_to_poi': 108, 'poi': True, 'long_term_incentive': 'NaN', 'shared_receipt_with_poi': 5521, 'restricted_stock': 157569, 'director_fees': 'NaN'}, 'DIMICHELE RICHARD G': {'salary': 262788, 'to_messages': 'NaN', 'deferral_payments': 'NaN', 'total_payments': 2368151, 'loan_advances': 'NaN', 'bonus': 1000000, 'email_address': 'richard.dimichele@enron.com', 'restricted_stock_deferred': 'NaN', 'deferred_income': 'NaN', 'total_stock_value': 8317782, 'expenses': 35812, 'from_poi_to_this_person': 'NaN', 'exercised_stock_options': 8191755, 'from_messages': 'NaN', 'other': 374689, 'from_this_person_to_poi': 'NaN', 'poi': False, 'long_term_incentive': 694862, 'shared_receipt_with_poi': 'NaN', 'restricted_stock': 126027, 'director_fees': 'NaN'}, 'DURAN WILLIAM D': {'salary': 210692, 'to_messages': 904, 'deferral_payments': 'NaN', 'total_payments': 2093263, 'loan_advances': 'NaN', 'bonus': 750000, 'email_address': 'w.duran@enron.com', 'restricted_stock_deferred': 'NaN', 'deferred_income': 'NaN', 'total_stock_value': 1640910, 'expenses': 25785, 'from_poi_to_this_person': 106, 'exercised_stock_options': 1451869, 'from_messages': 12, 'other': 1568, 'from_this_person_to_poi': 3, 'poi': False, 'long_term_incentive': 1105218, 'shared_receipt_with_poi': 599, 'restricted_stock': 189041, 'director_fees': 'NaN'}, 'THORN TERENCE H': {'salary': 222093, 'to_messages': 266, 'deferral_payments': 16586, 'total_payments': 911453, 'loan_advances': 'NaN', 'bonus': 'NaN', 'email_address': 'terence.thorn@enron.com', 'restricted_stock_deferred': 'NaN', 'deferred_income': 'NaN', 'total_stock_value': 4817796, 'expenses': 46145, 'from_poi_to_this_person': 0, 'exercised_stock_options': 4452476, 'from_messages': 41, 'other': 426629, 'from_this_person_to_poi': 0, 'poi': False, 'long_term_incentive': 200000, 'shared_receipt_with_poi': 73, 'restricted_stock': 365320, 'director_fees': 'NaN'}, 'FASTOW ANDREW S': {'salary': 440698, 'to_messages': 'NaN', 'deferral_payments': 'NaN', 'total_payments': 2424083, 'loan_advances': 'NaN', 'bonus': 1300000, 'email_address': 'andrew.fastow@enron.com', 'restricted_stock_deferred': 'NaN', 'deferred_income': -1386055, 'total_stock_value': 1794412, 'expenses': 55921, 'from_poi_to_this_person': 'NaN', 'exercised_stock_options': 'NaN', 'from_messages': 'NaN', 'other': 277464, 'from_this_person_to_poi': 'NaN', 'poi': True, 'long_term_incentive': 1736055, 'shared_receipt_with_poi': 'NaN', 'restricted_stock': 1794412, 'director_fees': 'NaN'}, 'FOY JOE': {'salary': 'NaN', 'to_messages': 57, 'deferral_payments': 181755, 'total_payments': 181755, 'loan_advances': 'NaN', 'bonus': 'NaN', 'email_address': 'tracy.foy@enron.com', 'restricted_stock_deferred': 'NaN', 'deferred_income': 'NaN', 'total_stock_value': 343434, 'expenses': 'NaN', 'from_poi_to_this_person': 0, 'exercised_stock_options': 343434, 'from_messages': 13, 'other': 'NaN', 'from_this_person_to_poi': 0, 'poi': False, 'long_term_incentive': 'NaN', 'shared_receipt_with_poi': 2, 'restricted_stock': 'NaN', 'director_fees': 'NaN'}, 'CALGER CHRISTOPHER F': {'salary': 240189, 'to_messages': 2598, 'deferral_payments': 'NaN', 'total_payments': 1639297, 'loan_advances': 'NaN', 'bonus': 1250000, 'email_address': 'christopher.calger@enron.com', 'restricted_stock_deferred': 'NaN', 'deferred_income': -262500, 'total_stock_value': 126027, 'expenses': 35818, 'from_poi_to_this_person': 199, 'exercised_stock_options': 'NaN', 'from_messages': 144, 'other': 486, 'from_this_person_to_poi': 25, 'poi': True, 'long_term_incentive': 375304, 'shared_receipt_with_poi': 2188, 'restricted_stock': 126027, 'director_fees': 'NaN'}, 'RICE KENNETH D': {'salary': 420636, 'to_messages': 905, 'deferral_payments': 'NaN', 'total_payments': 505050, 'loan_advances': 'NaN', 'bonus': 1750000, 'email_address': 'ken.rice@enron.com', 'restricted_stock_deferred': 'NaN', 'deferred_income': -3504386, 'total_stock_value': 22542539, 'expenses': 46950, 'from_poi_to_this_person': 42, 'exercised_stock_options': 19794175, 'from_messages': 18, 'other': 174839, 'from_this_person_to_poi': 4, 'poi': True, 'long_term_incentive': 1617011, 'shared_receipt_with_poi': 864, 'restricted_stock': 2748364, 'director_fees': 'NaN'}, 'KAMINSKI WINCENTY J': {'salary': 275101, 'to_messages': 4607, 'deferral_payments': 'NaN', 'total_payments': 1086821, 'loan_advances': 'NaN', 'bonus': 400000, 'email_address': 'vince.kaminski@enron.com', 'restricted_stock_deferred': 'NaN', 'deferred_income': 'NaN', 'total_stock_value': 976037, 'expenses': 83585, 'from_poi_to_this_person': 41, 'exercised_stock_options': 850010, 'from_messages': 14368, 'other': 4669, 'from_this_person_to_poi': 171, 'poi': False, 'long_term_incentive': 323466, 'shared_receipt_with_poi': 583, 'restricted_stock': 126027, 'director_fees': 'NaN'}, 'LOCKHART EUGENE E': {'salary': 'NaN', 'to_messages': 'NaN', 'deferral_payments': 'NaN', 'total_payments': 'NaN', 'loan_advances': 'NaN', 'bonus': 'NaN', 'email_address': 'NaN', 'restricted_stock_deferred': 'NaN', 'deferred_income': 'NaN', 'total_stock_value': 'NaN', 'expenses': 'NaN', 'from_poi_to_this_person': 'NaN', 'exercised_stock_options': 'NaN', 'from_messages': 'NaN', 'other': 'NaN', 'from_this_person_to_poi': 'NaN', 'poi': False, 'long_term_incentive': 'NaN', 'shared_receipt_with_poi': 'NaN', 'restricted_stock': 'NaN', 'director_fees': 'NaN'}, 'COX DAVID': {'salary': 314288, 'to_messages': 102, 'deferral_payments': 'NaN', 'total_payments': 1101393, 'loan_advances': 'NaN', 'bonus': 800000, 'email_address': 'chip.cox@enron.com', 'restricted_stock_deferred': 'NaN', 'deferred_income': -41250, 'total_stock_value': 495633, 'expenses': 27861, 'from_poi_to_this_person': 0, 'exercised_stock_options': 117551, 'from_messages': 33, 'other': 494, 'from_this_person_to_poi': 4, 'poi': False, 'long_term_incentive': 'NaN', 'shared_receipt_with_poi': 71, 'restricted_stock': 378082, 'director_fees': 'NaN'}, 'OVERDYKE JR JERE C': {'salary': 94941, 'to_messages': 'NaN', 'deferral_payments': 'NaN', 'total_payments': 249787, 'loan_advances': 'NaN', 'bonus': 'NaN', 'email_address': 'jere.overdyke@enron.com', 'restricted_stock_deferred': 'NaN', 'deferred_income': 'NaN', 'total_stock_value': 7307594, 'expenses': 18834, 'from_poi_to_this_person': 'NaN', 'exercised_stock_options': 5266578, 'from_messages': 'NaN', 'other': 176, 'from_this_person_to_poi': 'NaN', 'poi': False, 'long_term_incentive': 135836, 'shared_receipt_with_poi': 'NaN', 'restricted_stock': 2041016, 'director_fees': 'NaN'}, 'PEREIRA PAULO V. FERRAZ': {'salary': 'NaN', 'to_messages': 'NaN', 'deferral_payments': 'NaN', 'total_payments': 27942, 'loan_advances': 'NaN', 'bonus': 'NaN', 'email_address': 'NaN', 'restricted_stock_deferred': 'NaN', 'deferred_income': -101250, 'total_stock_value': 'NaN', 'expenses': 27942, 'from_poi_to_this_person': 'NaN', 'exercised_stock_options': 'NaN', 'from_messages': 'NaN', 'other': 'NaN', 'from_this_person_to_poi': 'NaN', 'poi': False, 'long_term_incentive': 'NaN', 'shared_receipt_with_poi': 'NaN', 'restricted_stock': 'NaN', 'director_fees': 101250}, 'STABLER FRANK': {'salary': 239502, 'to_messages': 'NaN', 'deferral_payments': 'NaN', 'total_payments': 1112087, 'loan_advances': 'NaN', 'bonus': 500000, 'email_address': 'frank.stabler@enron.com', 'restricted_stock_deferred': 'NaN', 'deferred_income': 'NaN', 'total_stock_value': 511734, 'expenses': 16514, 'from_poi_to_this_person': 'NaN', 'exercised_stock_options': 'NaN', 'from_messages': 'NaN', 'other': 356071, 'from_this_person_to_poi': 'NaN', 'poi': False, 'long_term_incentive': 'NaN', 'shared_receipt_with_poi': 'NaN', 'restricted_stock': 511734, 'director_fees': 'NaN'}, 'SKILLING JEFFREY K': {'salary': 1111258, 'to_messages': 3627, 'deferral_payments': 'NaN', 'total_payments': 8682716, 'loan_advances': 'NaN', 'bonus': 5600000, 'email_address': 'jeff.skilling@enron.com', 'restricted_stock_deferred': 'NaN', 'deferred_income': 'NaN', 'total_stock_value': 26093672, 'expenses': 29336, 'from_poi_to_this_person': 88, 'exercised_stock_options': 19250000, 'from_messages': 108, 'other': 22122, 'from_this_person_to_poi': 30, 'poi': True, 'long_term_incentive': 1920000, 'shared_receipt_with_poi': 2042, 'restricted_stock': 6843672, 'director_fees': 'NaN'}, 'BLAKE JR. NORMAN P': {'salary': 'NaN', 'to_messages': 'NaN', 'deferral_payments': 'NaN', 'total_payments': 1279, 'loan_advances': 'NaN', 'bonus': 'NaN', 'email_address': 'NaN', 'restricted_stock_deferred': 'NaN', 'deferred_income': -113784, 'total_stock_value': 'NaN', 'expenses': 1279, 'from_poi_to_this_person': 'NaN', 'exercised_stock_options': 'NaN', 'from_messages': 'NaN', 'other': 'NaN', 'from_this_person_to_poi': 'NaN', 'poi': False, 'long_term_incentive': 'NaN', 'shared_receipt_with_poi': 'NaN', 'restricted_stock': 'NaN', 'director_fees': 113784}, 'SHERRICK JEFFREY B': {'salary': 'NaN', 'to_messages': 613, 'deferral_payments': 'NaN', 'total_payments': 'NaN', 'loan_advances': 'NaN', 'bonus': 'NaN', 'email_address': 'jeffrey.sherrick@enron.com', 'restricted_stock_deferred': 'NaN', 'deferred_income': 'NaN', 'total_stock_value': 1832468, 'expenses': 'NaN', 'from_poi_to_this_person': 39, 'exercised_stock_options': 1426469, 'from_messages': 25, 'other': 'NaN', 'from_this_person_to_poi': 18, 'poi': False, 'long_term_incentive': 'NaN', 'shared_receipt_with_poi': 583, 'restricted_stock': 405999, 'director_fees': 'NaN'}, 'PRENTICE JAMES': {'salary': 'NaN', 'to_messages': 'NaN', 'deferral_payments': 564348, 'total_payments': 564348, 'loan_advances': 'NaN', 'bonus': 'NaN', 'email_address': 'james.prentice@enron.com', 'restricted_stock_deferred': 'NaN', 'deferred_income': 'NaN', 'total_stock_value': 1095040, 'expenses': 'NaN', 'from_poi_to_this_person': 'NaN', 'exercised_stock_options': 886231, 'from_messages': 'NaN', 'other': 'NaN', 'from_this_person_to_poi': 'NaN', 'poi': False, 'long_term_incentive': 'NaN', 'shared_receipt_with_poi': 'NaN', 'restricted_stock': 208809, 'director_fees': 'NaN'}, 'GRAY RODNEY': {'salary': 6615, 'to_messages': 'NaN', 'deferral_payments': 93585, 'total_payments': 1146658, 'loan_advances': 'NaN', 'bonus': 'NaN', 'email_address': 'NaN', 'restricted_stock_deferred': 'NaN', 'deferred_income': 'NaN', 'total_stock_value': 'NaN', 'expenses': 'NaN', 'from_poi_to_this_person': 'NaN', 'exercised_stock_options': 'NaN', 'from_messages': 'NaN', 'other': 680833, 'from_this_person_to_poi': 'NaN', 'poi': False, 'long_term_incentive': 365625, 'shared_receipt_with_poi': 'NaN', 'restricted_stock': 'NaN', 'director_fees': 'NaN'}, 'THE TRAVEL AGENCY IN THE PARK': {'salary': 'NaN', 'to_messages': 'NaN', 'deferral_payments': 'NaN', 'total_payments': 362096, 'loan_advances': 'NaN', 'bonus': 'NaN', 'email_address': 'NaN', 'restricted_stock_deferred': 'NaN', 'deferred_income': 'NaN', 'total_stock_value': 'NaN', 'expenses': 'NaN', 'from_poi_to_this_person': 'NaN', 'exercised_stock_options': 'NaN', 'from_messages': 'NaN', 'other': 362096, 'from_this_person_to_poi': 'NaN', 'poi': False, 'long_term_incentive': 'NaN', 'shared_receipt_with_poi': 'NaN', 'restricted_stock': 'NaN', 'director_fees': 'NaN'}, 'UMANOFF ADAM S': {'salary': 288589, 'to_messages': 111, 'deferral_payments': 'NaN', 'total_payments': 1130461, 'loan_advances': 'NaN', 'bonus': 788750, 'email_address': 'adam.umanoff@enron.com', 'restricted_stock_deferred': 'NaN', 'deferred_income': 'NaN', 'total_stock_value': 'NaN', 'expenses': 53122, 'from_poi_to_this_person': 12, 'exercised_stock_options': 'NaN', 'from_messages': 18, 'other': 'NaN', 'from_this_person_to_poi': 0, 'poi': False, 'long_term_incentive': 'NaN', 'shared_receipt_with_poi': 41, 'restricted_stock': 'NaN', 'director_fees': 'NaN'}, 'KEAN STEVEN J': {'salary': 404338, 'to_messages': 12754, 'deferral_payments': 'NaN', 'total_payments': 1747522, 'loan_advances': 'NaN', 'bonus': 1000000, 'email_address': 'steven.kean@enron.com', 'restricted_stock_deferred': 'NaN', 'deferred_income': 'NaN', 'total_stock_value': 6153642, 'expenses': 41953, 'from_poi_to_this_person': 140, 'exercised_stock_options': 2022048, 'from_messages': 6759, 'other': 1231, 'from_this_person_to_poi': 387, 'poi': False, 'long_term_incentive': 300000, 'shared_receipt_with_poi': 3639, 'restricted_stock': 4131594, 'director_fees': 'NaN'}, 'TOTAL': {'salary': 26704229, 'to_messages': 'NaN', 'deferral_payments': 32083396, 'total_payments': 309886585, 'loan_advances': 83925000, 'bonus': 97343619, 'email_address': 'NaN', 'restricted_stock_deferred': -7576788, 'deferred_income': -27992891, 'total_stock_value': 434509511, 'expenses': 5235198, 'from_poi_to_this_person': 'NaN', 'exercised_stock_options': 311764000, 'from_messages': 'NaN', 'other': 42667589, 'from_this_person_to_poi': 'NaN', 'poi': False, 'long_term_incentive': 48521928, 'shared_receipt_with_poi': 'NaN', 'restricted_stock': 130322299, 'director_fees': 1398517}, 'FOWLER PEGGY': {'salary': 'NaN', 'to_messages': 517, 'deferral_payments': 'NaN', 'total_payments': 'NaN', 'loan_advances': 'NaN', 'bonus': 'NaN', 'email_address': 'kulvinder.fowler@enron.com', 'restricted_stock_deferred': 'NaN', 'deferred_income': 'NaN', 'total_stock_value': 1884748, 'expenses': 'NaN', 'from_poi_to_this_person': 0, 'exercised_stock_options': 1324578, 'from_messages': 36, 'other': 'NaN', 'from_this_person_to_poi': 0, 'poi': False, 'long_term_incentive': 'NaN', 'shared_receipt_with_poi': 10, 'restricted_stock': 560170, 'director_fees': 'NaN'}, 'WASAFF GEORGE': {'salary': 259996, 'to_messages': 400, 'deferral_payments': 831299, 'total_payments': 1034395, 'loan_advances': 'NaN', 'bonus': 325000, 'email_address': 'george.wasaff@enron.com', 'restricted_stock_deferred': 'NaN', 'deferred_income': -583325, 'total_stock_value': 2056427, 'expenses': 'NaN', 'from_poi_to_this_person': 22, 'exercised_stock_options': 1668260, 'from_messages': 30, 'other': 1425, 'from_this_person_to_poi': 7, 'poi': False, 'long_term_incentive': 200000, 'shared_receipt_with_poi': 337, 'restricted_stock': 388167, 'director_fees': 'NaN'}, 'WHITE JR THOMAS E': {'salary': 317543, 'to_messages': 'NaN', 'deferral_payments': 'NaN', 'total_payments': 1934359, 'loan_advances': 'NaN', 'bonus': 450000, 'email_address': 'thomas.white@enron.com', 'restricted_stock_deferred': 'NaN', 'deferred_income': 'NaN', 'total_stock_value': 15144123, 'expenses': 81353, 'from_poi_to_this_person': 'NaN', 'exercised_stock_options': 1297049, 'from_messages': 'NaN', 'other': 1085463, 'from_this_person_to_poi': 'NaN', 'poi': False, 'long_term_incentive': 'NaN', 'shared_receipt_with_poi': 'NaN', 'restricted_stock': 13847074, 'director_fees': 'NaN'}, 'CHRISTODOULOU DIOMEDES': {'salary': 'NaN', 'to_messages': 'NaN', 'deferral_payments': 'NaN', 'total_payments': 'NaN', 'loan_advances': 'NaN', 'bonus': 'NaN', 'email_address': 'diomedes.christodoulou@enron.com', 'restricted_stock_deferred': 'NaN', 'deferred_income': 'NaN', 'total_stock_value': 6077885, 'expenses': 'NaN', 'from_poi_to_this_person': 'NaN', 'exercised_stock_options': 5127155, 'from_messages': 'NaN', 'other': 'NaN', 'from_this_person_to_poi': 'NaN', 'poi': False, 'long_term_incentive': 'NaN', 'shared_receipt_with_poi': 'NaN', 'restricted_stock': 950730, 'director_fees': 'NaN'}, 'ALLEN PHILLIP K': {'salary': 201955, 'to_messages': 2902, 'deferral_payments': 2869717, 'total_payments': 4484442, 'loan_advances': 'NaN', 'bonus': 4175000, 'email_address': 'phillip.allen@enron.com', 'restricted_stock_deferred': -126027, 'deferred_income': -3081055, 'total_stock_value': 1729541, 'expenses': 13868, 'from_poi_to_this_person': 47, 'exercised_stock_options': 1729541, 'from_messages': 2195, 'other': 152, 'from_this_person_to_poi': 65, 'poi': False, 'long_term_incentive': 304805, 'shared_receipt_with_poi': 1407, 'restricted_stock': 126027, 'director_fees': 'NaN'}, 'SHARP VICTORIA T': {'salary': 248146, 'to_messages': 3136, 'deferral_payments': 187469, 'total_payments': 1576511, 'loan_advances': 'NaN', 'bonus': 600000, 'email_address': 'vicki.sharp@enron.com', 'restricted_stock_deferred': 'NaN', 'deferred_income': 'NaN', 'total_stock_value': 494136, 'expenses': 116337, 'from_poi_to_this_person': 24, 'exercised_stock_options': 281073, 'from_messages': 136, 'other': 2401, 'from_this_person_to_poi': 6, 'poi': False, 'long_term_incentive': 422158, 'shared_receipt_with_poi': 2477, 'restricted_stock': 213063, 'director_fees': 'NaN'}, 'JAEDICKE ROBERT': {'salary': 'NaN', 'to_messages': 'NaN', 'deferral_payments': 'NaN', 'total_payments': 83750, 'loan_advances': 'NaN', 'bonus': 'NaN', 'email_address': 'NaN', 'restricted_stock_deferred': -44093, 'deferred_income': -25000, 'total_stock_value': 431750, 'expenses': 'NaN', 'from_poi_to_this_person': 'NaN', 'exercised_stock_options': 431750, 'from_messages': 'NaN', 'other': 'NaN', 'from_this_person_to_poi': 'NaN', 'poi': False, 'long_term_incentive': 'NaN', 'shared_receipt_with_poi': 'NaN', 'restricted_stock': 44093, 'director_fees': 108750}, 'WINOKUR JR. HERBERT S': {'salary': 'NaN', 'to_messages': 'NaN', 'deferral_payments': 'NaN', 'total_payments': 84992, 'loan_advances': 'NaN', 'bonus': 'NaN', 'email_address': 'NaN', 'restricted_stock_deferred': 'NaN', 'deferred_income': -25000, 'total_stock_value': 'NaN', 'expenses': 1413, 'from_poi_to_this_person': 'NaN', 'exercised_stock_options': 'NaN', 'from_messages': 'NaN', 'other': 'NaN', 'from_this_person_to_poi': 'NaN', 'poi': False, 'long_term_incentive': 'NaN', 'shared_receipt_with_poi': 'NaN', 'restricted_stock': 'NaN', 'director_fees': 108579}, 'BROWN MICHAEL': {'salary': 'NaN', 'to_messages': 1486, 'deferral_payments': 'NaN', 'total_payments': 49288, 'loan_advances': 'NaN', 'bonus': 'NaN', 'email_address': 'michael.brown@enron.com', 'restricted_stock_deferred': 'NaN', 'deferred_income': 'NaN', 'total_stock_value': 'NaN', 'expenses': 49288, 'from_poi_to_this_person': 13, 'exercised_stock_options': 'NaN', 'from_messages': 41, 'other': 'NaN', 'from_this_person_to_poi': 1, 'poi': False, 'long_term_incentive': 'NaN', 'shared_receipt_with_poi': 761, 'restricted_stock': 'NaN', 'director_fees': 'NaN'}, 'MCCLELLAN GEORGE': {'salary': 263413, 'to_messages': 1744, 'deferral_payments': 'NaN', 'total_payments': 1318763, 'loan_advances': 'NaN', 'bonus': 900000, 'email_address': 'george.mcclellan@enron.com', 'restricted_stock_deferred': 'NaN', 'deferred_income': -125000, 'total_stock_value': 947861, 'expenses': 228763, 'from_poi_to_this_person': 52, 'exercised_stock_options': 506765, 'from_messages': 49, 'other': 51587, 'from_this_person_to_poi': 0, 'poi': False, 'long_term_incentive': 'NaN', 'shared_receipt_with_poi': 1469, 'restricted_stock': 441096, 'director_fees': 'NaN'}, 'HUGHES JAMES A': {'salary': 'NaN', 'to_messages': 719, 'deferral_payments': 'NaN', 'total_payments': 'NaN', 'loan_advances': 'NaN', 'bonus': 'NaN', 'email_address': 'james.hughes@enron.com', 'restricted_stock_deferred': 'NaN', 'deferred_income': 'NaN', 'total_stock_value': 1118394, 'expenses': 'NaN', 'from_poi_to_this_person': 35, 'exercised_stock_options': 754966, 'from_messages': 34, 'other': 'NaN', 'from_this_person_to_poi': 5, 'poi': False, 'long_term_incentive': 'NaN', 'shared_receipt_with_poi': 589, 'restricted_stock': 363428, 'director_fees': 'NaN'}, 'REYNOLDS LAWRENCE': {'salary': 76399, 'to_messages': 'NaN', 'deferral_payments': 51365, 'total_payments': 394475, 'loan_advances': 'NaN', 'bonus': 100000, 'email_address': 'NaN', 'restricted_stock_deferred': -140264, 'deferred_income': -200000, 'total_stock_value': 4221891, 'expenses': 8409, 'from_poi_to_this_person': 'NaN', 'exercised_stock_options': 4160672, 'from_messages': 'NaN', 'other': 202052, 'from_this_person_to_poi': 'NaN', 'poi': False, 'long_term_incentive': 156250, 'shared_receipt_with_poi': 'NaN', 'restricted_stock': 201483, 'director_fees': 'NaN'}, 'PICKERING MARK R': {'salary': 655037, 'to_messages': 898, 'deferral_payments': 'NaN', 'total_payments': 1386690, 'loan_advances': 400000, 'bonus': 300000, 'email_address': 'mark.pickering@enron.com', 'restricted_stock_deferred': 'NaN', 'deferred_income': 'NaN', 'total_stock_value': 28798, 'expenses': 31653, 'from_poi_to_this_person': 7, 'exercised_stock_options': 28798, 'from_messages': 67, 'other': 'NaN', 'from_this_person_to_poi': 0, 'poi': False, 'long_term_incentive': 'NaN', 'shared_receipt_with_poi': 728, 'restricted_stock': 'NaN', 'director_fees': 'NaN'}, 'BHATNAGAR SANJAY': {'salary': 'NaN', 'to_messages': 523, 'total_stock_value': 'NaN', 'deferral_payments': 'NaN', 'total_payments': 15456290, 'loan_advances': 'NaN', 'bonus': 'NaN', 'email_address': 'sanjay.bhatnagar@enron.com', 'restricted_stock_deferred': 15456290, 'deferred_income': 'NaN', 'expenses': 'NaN', 'from_poi_to_this_person': 0, 'exercised_stock_options': 2604490, 'from_messages': 29, 'other': 137864, 'from_this_person_to_poi': 1, 'poi': False, 'long_term_incentive': 'NaN', 'shared_receipt_with_poi': 463, 'restricted_stock': -2604490, 'director_fees': 137864}, 'CARTER REBECCA C': {'salary': 261809, 'to_messages': 312, 'deferral_payments': 'NaN', 'total_payments': 477557, 'loan_advances': 'NaN', 'bonus': 300000, 'email_address': 'rebecca.carter@enron.com', 'restricted_stock_deferred': -307301, 'deferred_income': -159792, 'total_stock_value': 'NaN', 'expenses': 'NaN', 'from_poi_to_this_person': 29, 'exercised_stock_options': 'NaN', 'from_messages': 15, 'other': 540, 'from_this_person_to_poi': 7, 'poi': False, 'long_term_incentive': 75000, 'shared_receipt_with_poi': 196, 'restricted_stock': 307301, 'director_fees': 'NaN'}, 'BUCHANAN HAROLD G': {'salary': 248017, 'to_messages': 1088, 'deferral_payments': 'NaN', 'total_payments': 1054637, 'loan_advances': 'NaN', 'bonus': 500000, 'email_address': 'john.buchanan@enron.com', 'restricted_stock_deferred': 'NaN', 'deferred_income': 'NaN', 'total_stock_value': 1014505, 'expenses': 600, 'from_poi_to_this_person': 0, 'exercised_stock_options': 825464, 'from_messages': 125, 'other': 1215, 'from_this_person_to_poi': 0, 'poi': False, 'long_term_incentive': 304805, 'shared_receipt_with_poi': 23, 'restricted_stock': 189041, 'director_fees': 'NaN'}, 'YEAP SOON': {'salary': 'NaN', 'to_messages': 'NaN', 'deferral_payments': 'NaN', 'total_payments': 55097, 'loan_advances': 'NaN', 'bonus': 'NaN', 'email_address': 'NaN', 'restricted_stock_deferred': 'NaN', 'deferred_income': 'NaN', 'total_stock_value': 192758, 'expenses': 55097, 'from_poi_to_this_person': 'NaN', 'exercised_stock_options': 192758, 'from_messages': 'NaN', 'other': 'NaN', 'from_this_person_to_poi': 'NaN', 'poi': False, 'long_term_incentive': 'NaN', 'shared_receipt_with_poi': 'NaN', 'restricted_stock': 'NaN', 'director_fees': 'NaN'}, 'MURRAY JULIA H': {'salary': 229284, 'to_messages': 2192, 'deferral_payments': 'NaN', 'total_payments': 812194, 'loan_advances': 'NaN', 'bonus': 400000, 'email_address': 'julia.murray@enron.com', 'restricted_stock_deferred': 'NaN', 'deferred_income': 'NaN', 'total_stock_value': 597461, 'expenses': 57580, 'from_poi_to_this_person': 11, 'exercised_stock_options': 400478, 'from_messages': 45, 'other': 330, 'from_this_person_to_poi': 2, 'poi': False, 'long_term_incentive': 125000, 'shared_receipt_with_poi': 395, 'restricted_stock': 196983, 'director_fees': 'NaN'}, 'GARLAND C KEVIN': {'salary': 231946, 'to_messages': 209, 'deferral_payments': 'NaN', 'total_payments': 1566469, 'loan_advances': 'NaN', 'bonus': 850000, 'email_address': 'kevin.garland@enron.com', 'restricted_stock_deferred': 'NaN', 'deferred_income': 'NaN', 'total_stock_value': 896153, 'expenses': 48405, 'from_poi_to_this_person': 10, 'exercised_stock_options': 636246, 'from_messages': 44, 'other': 60814, 'from_this_person_to_poi': 27, 'poi': False, 'long_term_incentive': 375304, 'shared_receipt_with_poi': 178, 'restricted_stock': 259907, 'director_fees': 'NaN'}, 'DODSON KEITH': {'salary': 221003, 'to_messages': 176, 'deferral_payments': 'NaN', 'total_payments': 319941, 'loan_advances': 'NaN', 'bonus': 70000, 'email_address': 'keith.dodson@enron.com', 'restricted_stock_deferred': 'NaN', 'deferred_income': 'NaN', 'total_stock_value': 'NaN', 'expenses': 28164, 'from_poi_to_this_person': 10, 'exercised_stock_options': 'NaN', 'from_messages': 14, 'other': 774, 'from_this_person_to_poi': 3, 'poi': False, 'long_term_incentive': 'NaN', 'shared_receipt_with_poi': 114, 'restricted_stock': 'NaN', 'director_fees': 'NaN'}, 'YEAGER F SCOTT': {'salary': 158403, 'to_messages': 'NaN', 'deferral_payments': 'NaN', 'total_payments': 360300, 'loan_advances': 'NaN', 'bonus': 'NaN', 'email_address': 'scott.yeager@enron.com', 'restricted_stock_deferred': 'NaN', 'deferred_income': 'NaN', 'total_stock_value': 11884758, 'expenses': 53947, 'from_poi_to_this_person': 'NaN', 'exercised_stock_options': 8308552, 'from_messages': 'NaN', 'other': 147950, 'from_this_person_to_poi': 'NaN', 'poi': True, 'long_term_incentive': 'NaN', 'shared_receipt_with_poi': 'NaN', 'restricted_stock': 3576206, 'director_fees': 'NaN'}, 'HIRKO JOSEPH': {'salary': 'NaN', 'to_messages': 'NaN', 'deferral_payments': 10259, 'total_payments': 91093, 'loan_advances': 'NaN', 'bonus': 'NaN', 'email_address': 'joe.hirko@enron.com', 'restricted_stock_deferred': 'NaN', 'deferred_income': 'NaN', 'total_stock_value': 30766064, 'expenses': 77978, 'from_poi_to_this_person': 'NaN', 'exercised_stock_options': 30766064, 'from_messages': 'NaN', 'other': 2856, 'from_this_person_to_poi': 'NaN', 'poi': True, 'long_term_incentive': 'NaN', 'shared_receipt_with_poi': 'NaN', 'restricted_stock': 'NaN', 'director_fees': 'NaN'}, 'DIETRICH JANET R': {'salary': 250100, 'to_messages': 2572, 'deferral_payments': 'NaN', 'total_payments': 1410464, 'loan_advances': 'NaN', 'bonus': 600000, 'email_address': 'janet.dietrich@enron.com', 'restricted_stock_deferred': 'NaN', 'deferred_income': 'NaN', 'total_stock_value': 1865087, 'expenses': 3475, 'from_poi_to_this_person': 305, 'exercised_stock_options': 1550019, 'from_messages': 63, 'other': 473, 'from_this_person_to_poi': 14, 'poi': False, 'long_term_incentive': 556416, 'shared_receipt_with_poi': 1902, 'restricted_stock': 315068, 'director_fees': 'NaN'}, 'DERRICK JR. JAMES V': {'salary': 492375, 'to_messages': 2181, 'deferral_payments': 'NaN', 'total_payments': 550981, 'loan_advances': 'NaN', 'bonus': 800000, 'email_address': 'james.derrick@enron.com', 'restricted_stock_deferred': -1787380, 'deferred_income': -1284000, 'total_stock_value': 8831913, 'expenses': 51124, 'from_poi_to_this_person': 64, 'exercised_stock_options': 8831913, 'from_messages': 909, 'other': 7482, 'from_this_person_to_poi': 20, 'poi': False, 'long_term_incentive': 484000, 'shared_receipt_with_poi': 1401, 'restricted_stock': 1787380, 'director_fees': 'NaN'}, 'FREVERT MARK A': {'salary': 1060932, 'to_messages': 3275, 'deferral_payments': 6426990, 'total_payments': 17252530, 'loan_advances': 2000000, 'bonus': 2000000, 'email_address': 'mark.frevert@enron.com', 'restricted_stock_deferred': 'NaN', 'deferred_income': -3367011, 'total_stock_value': 14622185, 'expenses': 86987, 'from_poi_to_this_person': 242, 'exercised_stock_options': 10433518, 'from_messages': 21, 'other': 7427621, 'from_this_person_to_poi': 6, 'poi': False, 'long_term_incentive': 1617011, 'shared_receipt_with_poi': 2979, 'restricted_stock': 4188667, 'director_fees': 'NaN'}, 'PAI LOU L': {'salary': 261879, 'to_messages': 'NaN', 'deferral_payments': 'NaN', 'total_payments': 3123383, 'loan_advances': 'NaN', 'bonus': 1000000, 'email_address': 'lou.pai@enron.com', 'restricted_stock_deferred': 'NaN', 'deferred_income': 'NaN', 'total_stock_value': 23817930, 'expenses': 32047, 'from_poi_to_this_person': 'NaN', 'exercised_stock_options': 15364167, 'from_messages': 'NaN', 'other': 1829457, 'from_this_person_to_poi': 'NaN', 'poi': False, 'long_term_incentive': 'NaN', 'shared_receipt_with_poi': 'NaN', 'restricted_stock': 8453763, 'director_fees': 'NaN'}, 'HAYSLETT RODERICK J': {'salary': 'NaN', 'to_messages': 2649, 'deferral_payments': 'NaN', 'total_payments': 'NaN', 'loan_advances': 'NaN', 'bonus': 'NaN', 'email_address': 'rod.hayslett@enron.com', 'restricted_stock_deferred': 'NaN', 'deferred_income': 'NaN', 'total_stock_value': 346663, 'expenses': 'NaN', 'from_poi_to_this_person': 35, 'exercised_stock_options': 'NaN', 'from_messages': 1061, 'other': 'NaN', 'from_this_person_to_poi': 38, 'poi': False, 'long_term_incentive': 'NaN', 'shared_receipt_with_poi': 571, 'restricted_stock': 346663, 'director_fees': 'NaN'}, 'BAY FRANKLIN R': {'salary': 239671, 'to_messages': 'NaN', 'deferral_payments': 260455, 'total_payments': 827696, 'loan_advances': 'NaN', 'bonus': 400000, 'email_address': 'frank.bay@enron.com', 'restricted_stock_deferred': -82782, 'deferred_income': -201641, 'total_stock_value': 63014, 'expenses': 129142, 'from_poi_to_this_person': 'NaN', 'exercised_stock_options': 'NaN', 'from_messages': 'NaN', 'other': 69, 'from_this_person_to_poi': 'NaN', 'poi': False, 'long_term_incentive': 'NaN', 'shared_receipt_with_poi': 'NaN', 'restricted_stock': 145796, 'director_fees': 'NaN'}, 'MCCARTY DANNY J': {'salary': 'NaN', 'to_messages': 1433, 'deferral_payments': 'NaN', 'total_payments': 'NaN', 'loan_advances': 'NaN', 'bonus': 'NaN', 'email_address': 'danny.mccarty@enron.com', 'restricted_stock_deferred': 'NaN', 'deferred_income': 'NaN', 'total_stock_value': 758931, 'expenses': 'NaN', 'from_poi_to_this_person': 25, 'exercised_stock_options': 664375, 'from_messages': 215, 'other': 'NaN', 'from_this_person_to_poi': 2, 'poi': False, 'long_term_incentive': 'NaN', 'shared_receipt_with_poi': 508, 'restricted_stock': 94556, 'director_fees': 'NaN'}, 'FUGH JOHN L': {'salary': 'NaN', 'to_messages': 'NaN', 'deferral_payments': 50591, 'total_payments': 50591, 'loan_advances': 'NaN', 'bonus': 'NaN', 'email_address': 'NaN', 'restricted_stock_deferred': 'NaN', 'deferred_income': 'NaN', 'total_stock_value': 176378, 'expenses': 'NaN', 'from_poi_to_this_person': 'NaN', 'exercised_stock_options': 176378, 'from_messages': 'NaN', 'other': 'NaN', 'from_this_person_to_poi': 'NaN', 'poi': False, 'long_term_incentive': 'NaN', 'shared_receipt_with_poi': 'NaN', 'restricted_stock': 'NaN', 'director_fees': 'NaN'}, 'SCRIMSHAW MATTHEW': {'salary': 'NaN', 'to_messages': 'NaN', 'deferral_payments': 'NaN', 'total_payments': 'NaN', 'loan_advances': 'NaN', 'bonus': 'NaN', 'email_address': 'matthew.scrimshaw@enron.com', 'restricted_stock_deferred': 'NaN', 'deferred_income': 'NaN', 'total_stock_value': 759557, 'expenses': 'NaN', 'from_poi_to_this_person': 'NaN', 'exercised_stock_options': 759557, 'from_messages': 'NaN', 'other': 'NaN', 'from_this_person_to_poi': 'NaN', 'poi': False, 'long_term_incentive': 'NaN', 'shared_receipt_with_poi': 'NaN', 'restricted_stock': 'NaN', 'director_fees': 'NaN'}, 'KOENIG MARK E': {'salary': 309946, 'to_messages': 2374, 'deferral_payments': 'NaN', 'total_payments': 1587421, 'loan_advances': 'NaN', 'bonus': 700000, 'email_address': 'mark.koenig@enron.com', 'restricted_stock_deferred': 'NaN', 'deferred_income': 'NaN', 'total_stock_value': 1920055, 'expenses': 127017, 'from_poi_to_this_person': 53, 'exercised_stock_options': 671737, 'from_messages': 61, 'other': 150458, 'from_this_person_to_poi': 15, 'poi': True, 'long_term_incentive': 300000, 'shared_receipt_with_poi': 2271, 'restricted_stock': 1248318, 'director_fees': 'NaN'}, 'SAVAGE FRANK': {'salary': 'NaN', 'to_messages': 'NaN', 'deferral_payments': 'NaN', 'total_payments': 3750, 'loan_advances': 'NaN', 'bonus': 'NaN', 'email_address': 'NaN', 'restricted_stock_deferred': 'NaN', 'deferred_income': -121284, 'total_stock_value': 'NaN', 'expenses': 'NaN', 'from_poi_to_this_person': 'NaN', 'exercised_stock_options': 'NaN', 'from_messages': 'NaN', 'other': 'NaN', 'from_this_person_to_poi': 'NaN', 'poi': False, 'long_term_incentive': 'NaN', 'shared_receipt_with_poi': 'NaN', 'restricted_stock': 'NaN', 'director_fees': 125034}, 'IZZO LAWRENCE L': {'salary': 85274, 'to_messages': 496, 'deferral_payments': 'NaN', 'total_payments': 1979596, 'loan_advances': 'NaN', 'bonus': 'NaN', 'email_address': 'larry.izzo@enron.com', 'restricted_stock_deferred': 'NaN', 'deferred_income': 'NaN', 'total_stock_value': 5819980, 'expenses': 28093, 'from_poi_to_this_person': 28, 'exercised_stock_options': 2165172, 'from_messages': 19, 'other': 1553729, 'from_this_person_to_poi': 5, 'poi': False, 'long_term_incentive': 312500, 'shared_receipt_with_poi': 437, 'restricted_stock': 3654808, 'director_fees': 'NaN'}, 'TILNEY ELIZABETH A': {'salary': 247338, 'to_messages': 460, 'deferral_payments': 'NaN', 'total_payments': 399393, 'loan_advances': 'NaN', 'bonus': 300000, 'email_address': 'elizabeth.tilney@enron.com', 'restricted_stock_deferred': 'NaN', 'deferred_income': -575000, 'total_stock_value': 1168042, 'expenses': 'NaN', 'from_poi_to_this_person': 10, 'exercised_stock_options': 591250, 'from_messages': 19, 'other': 152055, 'from_this_person_to_poi': 11, 'poi': False, 'long_term_incentive': 275000, 'shared_receipt_with_poi': 379, 'restricted_stock': 576792, 'director_fees': 'NaN'}, 'MARTIN AMANDA K': {'salary': 349487, 'to_messages': 1522, 'deferral_payments': 85430, 'total_payments': 8407016, 'loan_advances': 'NaN', 'bonus': 'NaN', 'email_address': 'a..martin@enron.com', 'restricted_stock_deferred': 'NaN', 'deferred_income': 'NaN', 'total_stock_value': 2070306, 'expenses': 8211, 'from_poi_to_this_person': 8, 'exercised_stock_options': 2070306, 'from_messages': 230, 'other': 2818454, 'from_this_person_to_poi': 0, 'poi': False, 'long_term_incentive': 5145434, 'shared_receipt_with_poi': 477, 'restricted_stock': 'NaN', 'director_fees': 'NaN'}, 'BUY RICHARD B': {'salary': 330546, 'to_messages': 3523, 'deferral_payments': 649584, 'total_payments': 2355702, 'loan_advances': 'NaN', 'bonus': 900000, 'email_address': 'rick.buy@enron.com', 'restricted_stock_deferred': 'NaN', 'deferred_income': -694862, 'total_stock_value': 3444470, 'expenses': 'NaN', 'from_poi_to_this_person': 156, 'exercised_stock_options': 2542813, 'from_messages': 1053, 'other': 400572, 'from_this_person_to_poi': 71, 'poi': False, 'long_term_incentive': 769862, 'shared_receipt_with_poi': 2333, 'restricted_stock': 901657, 'director_fees': 'NaN'}, 'GRAMM WENDY L': {'salary': 'NaN', 'to_messages': 'NaN', 'deferral_payments': 'NaN', 'total_payments': 119292, 'loan_advances': 'NaN', 'bonus': 'NaN', 'email_address': 'NaN', 'restricted_stock_deferred': 'NaN', 'deferred_income': 'NaN', 'total_stock_value': 'NaN', 'expenses': 'NaN', 'from_poi_to_this_person': 'NaN', 'exercised_stock_options': 'NaN', 'from_messages': 'NaN', 'other': 'NaN', 'from_this_person_to_poi': 'NaN', 'poi': False, 'long_term_incentive': 'NaN', 'shared_receipt_with_poi': 'NaN', 'restricted_stock': 'NaN', 'director_fees': 119292}, 'CAUSEY RICHARD A': {'salary': 415189, 'to_messages': 1892, 'deferral_payments': 'NaN', 'total_payments': 1868758, 'loan_advances': 'NaN', 'bonus': 1000000, 'email_address': 'richard.causey@enron.com', 'restricted_stock_deferred': 'NaN', 'deferred_income': -235000, 'total_stock_value': 2502063, 'expenses': 30674, 'from_poi_to_this_person': 58, 'exercised_stock_options': 'NaN', 'from_messages': 49, 'other': 307895, 'from_this_person_to_poi': 12, 'poi': True, 'long_term_incentive': 350000, 'shared_receipt_with_poi': 1585, 'restricted_stock': 2502063, 'director_fees': 'NaN'}, 'TAYLOR MITCHELL S': {'salary': 265214, 'to_messages': 533, 'deferral_payments': 227449, 'total_payments': 1092663, 'loan_advances': 'NaN', 'bonus': 600000, 'email_address': 'mitchell.taylor@enron.com', 'restricted_stock_deferred': 'NaN', 'deferred_income': 'NaN', 'total_stock_value': 3745048, 'expenses': 'NaN', 'from_poi_to_this_person': 0, 'exercised_stock_options': 3181250, 'from_messages': 29, 'other': 'NaN', 'from_this_person_to_poi': 0, 'poi': False, 'long_term_incentive': 'NaN', 'shared_receipt_with_poi': 300, 'restricted_stock': 563798, 'director_fees': 'NaN'}, 'DONAHUE JR JEFFREY M': {'salary': 278601, 'to_messages': 865, 'deferral_payments': 'NaN', 'total_payments': 875760, 'loan_advances': 'NaN', 'bonus': 800000, 'email_address': 'jeff.donahue@enron.com', 'restricted_stock_deferred': 'NaN', 'deferred_income': -300000, 'total_stock_value': 1080988, 'expenses': 96268, 'from_poi_to_this_person': 188, 'exercised_stock_options': 765920, 'from_messages': 22, 'other': 891, 'from_this_person_to_poi': 11, 'poi': False, 'long_term_incentive': 'NaN', 'shared_receipt_with_poi': 772, 'restricted_stock': 315068, 'director_fees': 'NaN'}, 'GLISAN JR BEN F': {'salary': 274975, 'to_messages': 873, 'deferral_payments': 'NaN', 'total_payments': 1272284, 'loan_advances': 'NaN', 'bonus': 600000, 'email_address': 'ben.glisan@enron.com', 'restricted_stock_deferred': 'NaN', 'deferred_income': 'NaN', 'total_stock_value': 778546, 'expenses': 125978, 'from_poi_to_this_person': 52, 'exercised_stock_options': 384728, 'from_messages': 16, 'other': 200308, 'from_this_person_to_poi': 6, 'poi': True, 'long_term_incentive': 71023, 'shared_receipt_with_poi': 874, 'restricted_stock': 393818, 'director_fees': 'NaN'}}\n"
     ]
    }
   ],
   "source": [
    "print(data_dict)"
   ]
  },
  {
   "cell_type": "markdown",
   "metadata": {},
   "source": [
    "## a. Exploring the data set"
   ]
  },
  {
   "cell_type": "code",
   "execution_count": 3,
   "metadata": {},
   "outputs": [
    {
     "name": "stdout",
     "output_type": "stream",
     "text": [
      "Total people in the dataset: 146\n",
      "Total persons of interest (POI): 18\n",
      "Proportion of POIs in the dataset: 0.1232876712328767\n"
     ]
    }
   ],
   "source": [
    "nb_people=len(data_dict)\n",
    "print('Total people in the dataset: {}'.format(nb_people))\n",
    "nb_poi= sum([data_dict[key]['poi']==1 for key in data_dict])\n",
    "print(\"Total persons of interest (POI): {}\".format(nb_poi))\n",
    "print(\"Proportion of POIs in the dataset: {}\".format(nb_poi/nb_people))"
   ]
  },
  {
   "cell_type": "markdown",
   "metadata": {},
   "source": [
    "We observe that out of 146 persons included in the data set, only 18 persons are considered as persons of interest, which reprents 12.3%. The data set is very unbalanced."
   ]
  },
  {
   "cell_type": "markdown",
   "metadata": {},
   "source": [
    "How many features are available in the data set?"
   ]
  },
  {
   "cell_type": "code",
   "execution_count": 4,
   "metadata": {},
   "outputs": [
    {
     "name": "stdout",
     "output_type": "stream",
     "text": [
      "Number of features available for each person: {} 21\n",
      "Name of the features: {} dict_keys(['salary', 'to_messages', 'deferral_payments', 'total_payments', 'loan_advances', 'bonus', 'email_address', 'restricted_stock_deferred', 'deferred_income', 'total_stock_value', 'expenses', 'from_poi_to_this_person', 'exercised_stock_options', 'from_messages', 'other', 'from_this_person_to_poi', 'poi', 'long_term_incentive', 'shared_receipt_with_poi', 'restricted_stock', 'director_fees'])\n"
     ]
    }
   ],
   "source": [
    "num_features = len(data_dict[list(data_dict.keys())[0]]) \n",
    "feature_names = data_dict[list(data_dict.keys())[1]].keys()\n",
    "print('Number of features available for each person: {}',num_features)\n",
    "print('Name of the features: {}', feature_names)"
   ]
  },
  {
   "cell_type": "markdown",
   "metadata": {},
   "source": [
    "## b. Outlier investigation"
   ]
  },
  {
   "cell_type": "markdown",
   "metadata": {},
   "source": [
    "Are there outliers in the data set? We can start by creating a scatter plot with the salary and bonus features."
   ]
  },
  {
   "cell_type": "code",
   "execution_count": 5,
   "metadata": {},
   "outputs": [],
   "source": [
    "features_list = [\"poi\",\"salary\", \"bonus\"]\n",
    "data = featureFormat(data_dict, features_list, sort_keys = True)"
   ]
  },
  {
   "cell_type": "code",
   "execution_count": 6,
   "metadata": {},
   "outputs": [
    {
     "data": {
      "image/png": "[encoded data removed]",
      "text/plain": [
       "<matplotlib.figure.Figure at 0x1f5bd0c0940>"
      ]
     },
     "metadata": {},
     "output_type": "display_data"
    }
   ],
   "source": [
    "poi=data[:,0]\n",
    "salary = data[:,1]\n",
    "bonus = data[:,2]\n",
    "\n",
    "plt.scatter(salary[poi==1],bonus[poi==1],c='red',s=50,label='poi')\n",
    "plt.scatter(salary[poi==0],bonus[poi==0],c='blue',s=50,label='not poi')\n",
    "\n",
    "plt.xlabel(\"Salary\")\n",
    "plt.ylabel(\"Bonus\")\n",
    "plt.legend(loc='lower right')\n",
    "plt.title(\"Bonus vs Salary\")\n",
    "plt.show()"
   ]
  },
  {
   "cell_type": "markdown",
   "metadata": {},
   "source": [
    "We can observe that there is clearly an outlier with a salary higher than 25,000,000 dollars and a bonus higher than 80,000,000 dollars. But who is this outlier?"
   ]
  },
  {
   "cell_type": "code",
   "execution_count": 7,
   "metadata": {},
   "outputs": [
    {
     "name": "stdout",
     "output_type": "stream",
     "text": [
      "What's the name of the outlier: {} ['TOTAL']\n"
     ]
    }
   ],
   "source": [
    "outliers=[]\n",
    "for key in data_dict.keys():\n",
    "    if (float(data_dict[key]['bonus']) > 0.8*1e8) & (data_dict[key]['bonus'] != 'NaN') & (float(data_dict[key]['salary']) > 2.5*1e7):\n",
    "        outliers.append(key)\n",
    "print(\"What's the name of the outlier: {}\",outliers)"
   ]
  },
  {
   "cell_type": "markdown",
   "metadata": {},
   "source": [
    "It appears that there is a bug in the data set. The outlier is in fact the total of each variable. Let's remove this outlier."
   ]
  },
  {
   "cell_type": "code",
   "execution_count": 8,
   "metadata": {
    "collapsed": true
   },
   "outputs": [],
   "source": [
    "# We use the method pop to remove in the dictionary the item 'TOTAL.\n",
    "data_dict.pop('TOTAL',0)\n",
    "data = featureFormat(data_dict, features_list)"
   ]
  },
  {
   "cell_type": "code",
   "execution_count": 9,
   "metadata": {},
   "outputs": [
    {
     "data": {
      "image/png": "[encoded data removed]",
      "text/plain": [
       "<matplotlib.figure.Figure at 0x1f5be28aa20>"
      ]
     },
     "metadata": {},
     "output_type": "display_data"
    }
   ],
   "source": [
    "poi=data[:,0]\n",
    "salary = data[:,1]\n",
    "bonus = data[:,2]\n",
    "plt.scatter(salary[poi==1],bonus[poi==1],c='red',s=50,label='poi')\n",
    "plt.scatter(salary[poi==0],bonus[poi==0],c='blue',s=50,label='not poi')\n",
    "\n",
    "plt.xlabel(\"Salary\")\n",
    "plt.ylabel(\"Bonus\")\n",
    "plt.title(\"Bonus vs Salary\")\n",
    "plt.legend(loc='lower right')\n",
    "plt.show()"
   ]
  },
  {
   "cell_type": "markdown",
   "metadata": {},
   "source": [
    "Once we remove the outlier 'TOTAL', we can notice that there are still outliers in the data set. However a big proportion of them are POI. For this reason, it makes sense to keep them in the data set. Maybe POis tend to have higher salaries and bonuses. "
   ]
  },
  {
   "cell_type": "markdown",
   "metadata": {},
   "source": [
    "Are there features with many missing values? "
   ]
  },
  {
   "cell_type": "code",
   "execution_count": 10,
   "metadata": {},
   "outputs": [
    {
     "name": "stdout",
     "output_type": "stream",
     "text": [
      "Number of persons who have missing values for the salary? 51\n"
     ]
    }
   ],
   "source": [
    "print(\"Number of persons who have missing values for the salary?\",sum([data_dict[key]['salary']=='NaN' for key in data_dict]))"
   ]
  },
  {
   "cell_type": "markdown",
   "metadata": {},
   "source": [
    "Sklearn algorithm needs a numpy array and doesn't handle missing values(NaN). We will use the helper function featureFormat that transforms a dictionary to numpy array and replaces missing values with 0."
   ]
  },
  {
   "cell_type": "markdown",
   "metadata": {},
   "source": [
    "# 2. Feature Selection/Engineering"
   ]
  },
  {
   "cell_type": "markdown",
   "metadata": {
    "collapsed": true
   },
   "source": [
    "## a. New Feature"
   ]
  },
  {
   "cell_type": "markdown",
   "metadata": {},
   "source": [
    "Persons of interest may have strong email connections. POIs might send emails to other POIs at a higher rate than the rest of the population. For this reason, let's create two new features: one that represents the fraction of emails that a person sent to POIs, and another feature that represents the fraction of emails that a person received from POIs."
   ]
  },
  {
   "cell_type": "code",
   "execution_count": 11,
   "metadata": {},
   "outputs": [],
   "source": [
    "def computeFraction(poi_messages, all_messages):\n",
    "    \"\"\" given a number messages to/from POI (numerator) \n",
    "        and number of all messages to/from a person (denominator),\n",
    "        return the fraction of messages to/from that person\n",
    "        that are from/to a POI\n",
    "   \"\"\"\n",
    "    fraction = 0.\n",
    "    \n",
    "    if poi_messages=='NaN' or all_messages=='NaN':\n",
    "        fraction = 0.\n",
    "    else:  \n",
    "        fraction=float(poi_messages)/float(all_messages)\n",
    "\n",
    "    return fraction\n",
    "\n",
    "\n",
    "for name in data_dict:\n",
    "\n",
    "    data_point = data_dict[name]\n",
    "\n",
    "    from_poi_to_this_person = data_point[\"from_poi_to_this_person\"]\n",
    "    to_messages = data_point[\"to_messages\"]\n",
    "    fraction_from_poi = computeFraction( from_poi_to_this_person, to_messages )\n",
    "    data_point[\"fraction_from_poi\"] = fraction_from_poi\n",
    "\n",
    "\n",
    "    from_this_person_to_poi = data_point[\"from_this_person_to_poi\"]\n",
    "    from_messages = data_point[\"from_messages\"]\n",
    "    fraction_to_poi = computeFraction( from_this_person_to_poi, from_messages )\n",
    "    data_point[\"fraction_to_poi\"] = fraction_to_poi"
   ]
  },
  {
   "cell_type": "code",
   "execution_count": 12,
   "metadata": {
    "collapsed": true
   },
   "outputs": [],
   "source": [
    "fraction_to_poi=[data_dict[key][\"fraction_to_poi\"] for key in data_dict]\n",
    "fraction_from_poi=[data_dict[key][\"fraction_from_poi\"] for key in data_dict]\n",
    "poi=[data_dict[key][\"poi\"]==1 for key in data_dict]"
   ]
  },
  {
   "cell_type": "markdown",
   "metadata": {},
   "source": [
    "Let's create a scatter plot with the fraction of emails the person received from POIs against the fraction of emails the person sent to POIs."
   ]
  },
  {
   "cell_type": "code",
   "execution_count": 13,
   "metadata": {},
   "outputs": [
    {
     "data": {
      "image/png": "[encoded data removed]",
      "text/plain": [
       "<matplotlib.figure.Figure at 0x1f5be2c2470>"
      ]
     },
     "metadata": {},
     "output_type": "display_data"
    }
   ],
   "source": [
    "for i in range(len(poi)):\n",
    "    if poi[i]==1:\n",
    "        plt.scatter(fraction_from_poi[i],fraction_to_poi[i],c='red',s=50)\n",
    "    else:\n",
    "        plt.scatter(fraction_from_poi[i],fraction_to_poi[i],c='blue',s=50)\n",
    "plt.xlabel('Fraction of emails the person received from a POI') \n",
    "plt.ylabel('Fraction of emails the person sent to a POI') \n",
    "plt.show()"
   ]
  },
  {
   "cell_type": "markdown",
   "metadata": {},
   "source": [
    "We can observe that these two features have a discriminating power between POI and non POI. For example, we can observe that there are no POIs with fraction_to_poi<0.2."
   ]
  },
  {
   "cell_type": "markdown",
   "metadata": {},
   "source": [
    "## b. Feature Selection"
   ]
  },
  {
   "cell_type": "markdown",
   "metadata": {},
   "source": [
    "To select the features we will use an automated feature selection function named SelectKBest from the sklearn library. We will tune the parameter K (number of features) at the same time we tune the parameters of the machine learning algorithm during the implementation of cross-validation. If we select the number of features on the entire data set and then we tune the parameters of the machine learning algorithm there is a risk of overfitting."
   ]
  },
  {
   "cell_type": "code",
   "execution_count": 14,
   "metadata": {},
   "outputs": [],
   "source": [
    "from sklearn.feature_selection import SelectKBest, f_classif\n",
    "\n",
    "def feature_selection(nb_features,features, labels):\n",
    "    selector = SelectKBest(f_classif, k=nb_features)\n",
    "    selector.fit(features, labels)\n",
    "    return selector"
   ]
  },
  {
   "cell_type": "markdown",
   "metadata": {},
   "source": [
    "For now, let's create a numpy array including all the features (except email_address) that we will use to train our machine learning algorithm and, at the same time, select the number of features that we want to include in the model."
   ]
  },
  {
   "cell_type": "code",
   "execution_count": 15,
   "metadata": {
    "collapsed": true
   },
   "outputs": [],
   "source": [
    "my_dataset=data_dict\n",
    "\n",
    "features_list=['poi','salary',\n",
    " 'to_messages',\n",
    " 'deferral_payments',\n",
    " 'total_payments',\n",
    " 'exercised_stock_options',\n",
    " 'bonus',\n",
    " 'restricted_stock',\n",
    " 'shared_receipt_with_poi',\n",
    " 'restricted_stock_deferred',\n",
    " 'total_stock_value',\n",
    " 'expenses',\n",
    " 'loan_advances',\n",
    " 'from_messages',\n",
    " 'other',\n",
    " 'director_fees',\n",
    " 'deferred_income',\n",
    " 'long_term_incentive',\n",
    "'fraction_from_poi',\n",
    "'fraction_to_poi',\n",
    "'from_poi_to_this_person',\n",
    "'from_this_person_to_poi']"
   ]
  },
  {
   "cell_type": "markdown",
   "metadata": {},
   "source": [
    "We use the helper function to create a numpy array and we split the data set between features and labels."
   ]
  },
  {
   "cell_type": "code",
   "execution_count": 16,
   "metadata": {
    "collapsed": true
   },
   "outputs": [],
   "source": [
    "data = featureFormat(my_dataset, features_list, sort_keys = True)\n",
    "labels, features = targetFeatureSplit(data)"
   ]
  },
  {
   "cell_type": "markdown",
   "metadata": {},
   "source": [
    "# 3. Validation strategy and evluation metrics"
   ]
  },
  {
   "cell_type": "markdown",
   "metadata": {},
   "source": [
    "## a. Implementation of cross-validation"
   ]
  },
  {
   "cell_type": "markdown",
   "metadata": {},
   "source": [
    "To tune the machine learning algorithm we will use the cross-validation method. It's a great method to maximize the accuracy of the metrics we will chose to assess the performance of the algorithm. This method will also correctly tune the algorithm parameters to find the right trade-off between bias and variance in order to make sure that our algorithm is able to generalize (not overfitting).\n",
    "\n",
    "Usually we use K-cross-validation that consists of spliting the data into K chunks and performs K fits, where each chunk gets a turn as the validation set. \n",
    "Here, we will use a different cross-validation method, named StratifiedShuffleSplit, because of the small size of the data set and the unbalanced labels. This cross-validation object is a merge of StratifiedKFold and ShuffleSplit, which returns stratified randomized folds. The folds are made by preserving the percentage of samples for each class."
   ]
  },
  {
   "cell_type": "code",
   "execution_count": 17,
   "metadata": {
    "collapsed": true
   },
   "outputs": [],
   "source": [
    "from sklearn.cross_validation import StratifiedShuffleSplit\n",
    "from sklearn.feature_selection import SelectKBest, f_classif\n",
    "\n",
    "def test_classifier(clf, labels, features,nb_features, folds = 1000):\n",
    "    cv = StratifiedShuffleSplit(labels, folds, random_state = 42)\n",
    "    true_negatives = 0\n",
    "    false_negatives = 0\n",
    "    true_positives = 0\n",
    "    false_positives = 0\n",
    "    precision=0\n",
    "    recall=0\n",
    "    f1=0\n",
    "    f2=0\n",
    "    for train_idx, test_idx in cv: \n",
    "        features_train = []\n",
    "        features_test  = []\n",
    "        labels_train   = []\n",
    "        labels_test    = []\n",
    "        for ii in train_idx:\n",
    "            features_train.append( features[ii] )\n",
    "            labels_train.append( labels[ii] )\n",
    "        for jj in test_idx:\n",
    "            features_test.append( features[jj] )\n",
    "            labels_test.append( labels[jj] )\n",
    "            \n",
    "        #Selection of the best K features   \n",
    "        selector=feature_selection(nb_features,features_train, labels_train)\n",
    "        features_train_transformed = selector.transform(features_train)\n",
    "        features_test_transformed  = selector.transform(features_test)    \n",
    "            \n",
    "        ### fit the classifier using training set, and test on test set\n",
    "        clf.fit(features_train_transformed, labels_train)\n",
    "        predictions = clf.predict(features_test_transformed)\n",
    "        for prediction, truth in zip(predictions, labels_test):\n",
    "            if prediction == 0 and truth == 0:\n",
    "                true_negatives += 1\n",
    "            elif prediction == 0 and truth == 1:\n",
    "                false_negatives += 1\n",
    "            elif prediction == 1 and truth == 0:\n",
    "                false_positives += 1\n",
    "            elif prediction == 1 and truth == 1:\n",
    "                true_positives += 1\n",
    "            else:\n",
    "                break\n",
    "   \n",
    "    try:\n",
    "        total_predictions = true_negatives + false_negatives + false_positives + true_positives\n",
    "        accuracy = 1.0*(true_positives + true_negatives)/total_predictions\n",
    "        precision = 1.0*true_positives/(true_positives+false_positives)\n",
    "        recall = 1.0*true_positives/(true_positives+false_negatives)\n",
    "        f1 = 2.0 * true_positives/(2*true_positives + false_positives+false_negatives)\n",
    "        f2 = (1+2.0*2.0) * precision*recall/(4*precision + recall)\n",
    "    except:\n",
    "        #print \"Got a divide by zero when trying out:\", clf\n",
    "        None\n",
    "    return precision,recall,f1,f2"
   ]
  },
  {
   "cell_type": "markdown",
   "metadata": {},
   "source": [
    "## b. Evaluation metrics"
   ]
  },
  {
   "cell_type": "markdown",
   "metadata": {},
   "source": [
    "To assess the performance of our algorithm we will look at two evaluation metrics:\n",
    "\n",
    "- **Precision** = true positives/(true positives + false positives)\n",
    "- **Recall** = true positives/(true positives + false negatives)\n",
    "      \n",
    "There’s usually a tradeoff between precision and recall. Sometimes the identifier doesn't have great precision, but it does have good recall. That means that, nearly every time a POI shows up in the test set, we are able to identify him or her. The cost of this is that we sometimes get some false positives, where non-POI get flagged.\n",
    "\n",
    "Sometimes, instead, the identifier doesn't have a great recall, but it does have good precision. That means that whenever a POI gets flagged in the test set, we know with a lot of confidence that it's very likely to be a real POI and not a false alarm. On the other hand, the price we pay for this is that we sometimes miss real POIs, since we are reclucant to pull the trigger on edge cases. \n",
    "\n",
    "For this project we want that precision and recall are both at least 0.3.\n",
    "\n",
    "We will also compute the **F-score** that combines precision and recall. There are two versions of the F-score. The F1 score put the same weight on precision and recall, however F2 score put more wights on recall."
   ]
  },
  {
   "cell_type": "markdown",
   "metadata": {},
   "source": [
    "# 4. Choosing and tuning the algorithm"
   ]
  },
  {
   "cell_type": "markdown",
   "metadata": {},
   "source": [
    "## a. Gaussian Naive Bayes (GaussianNB)\n",
    "\n",
    "For the Gaussian Naive Bayes algorithm there are not specific parameters to tune, however we need to select the number of features."
   ]
  },
  {
   "cell_type": "code",
   "execution_count": 18,
   "metadata": {},
   "outputs": [
    {
     "name": "stderr",
     "output_type": "stream",
     "text": [
      "C:\\Users\\johir\\Anaconda3\\lib\\site-packages\\sklearn\\feature_selection\\univariate_selection.py:113: UserWarning: Features [11] are constant.\n",
      "  UserWarning)\n",
      "C:\\Users\\johir\\Anaconda3\\lib\\site-packages\\sklearn\\feature_selection\\univariate_selection.py:114: RuntimeWarning: invalid value encountered in true_divide\n",
      "  f = msb / msw\n"
     ]
    }
   ],
   "source": [
    "from sklearn.naive_bayes import GaussianNB\n",
    "\n",
    "nb_features_orig=len(features[1])\n",
    "\n",
    "#For each case, we want to record the different metrics.\n",
    "precision_result=[]\n",
    "recall_result=[]\n",
    "f1_result=[]\n",
    "f2_result=[]\n",
    "nb_feature_store=[]\n",
    "\n",
    "#Classifier\n",
    "clf=GaussianNB()\n",
    "\n",
    "#We calculate the evaluation metrics for k best number of features selected in the model.\n",
    "for nb_features in range(1,nb_features_orig+1):\n",
    "    \n",
    "    #We use cross-validation and we calculate precision and recall metrics\n",
    "    precision,recall,f1,f2=test_classifier(clf, labels, features,nb_features, folds = 1000)\n",
    "    #We record the evaluation metrics for each case               \n",
    "    precision_result.append(precision)\n",
    "    recall_result.append(recall)     \n",
    "    f1_result.append(f1)\n",
    "    f2_result.append(f2)\n",
    "    nb_feature_store.append(nb_features)"
   ]
  },
  {
   "cell_type": "markdown",
   "metadata": {},
   "source": [
    "Let's plot the precision and recall by number of features selected in the model."
   ]
  },
  {
   "cell_type": "code",
   "execution_count": 19,
   "metadata": {},
   "outputs": [
    {
     "data": {
      "image/png": "[encoded data removed]",
      "text/plain": [
       "<matplotlib.figure.Figure at 0x1f5be729588>"
      ]
     },
     "metadata": {},
     "output_type": "display_data"
    }
   ],
   "source": [
    "plt.plot(range(1,nb_features_orig+1),precision_result,c='red',label='precision')\n",
    "plt.plot(range(1,nb_features_orig+1),recall_result,c='blue',label='recall')\n",
    "plt.xlabel(\"Number of features used in the model\")\n",
    "plt.title(\"Precision and recall by number of features included in the model\")\n",
    "plt.legend()\n",
    "plt.show()"
   ]
  },
  {
   "cell_type": "markdown",
   "metadata": {},
   "source": [
    "We observe that if we select 6 best features we have the best performance with a precision and recall higher than 0.3. We have interesting performance with 14 features but we'd rather create a simpler model with fewer features."
   ]
  },
  {
   "cell_type": "markdown",
   "metadata": {},
   "source": [
    "What are the exact precision and recall when we select the 6 best features?"
   ]
  },
  {
   "cell_type": "code",
   "execution_count": 20,
   "metadata": {},
   "outputs": [
    {
     "name": "stdout",
     "output_type": "stream",
     "text": [
      "Precsion when the 6 best features are selected: 0.434235368156073\n",
      "Recall when the 6 best features are selected 0.345\n"
     ]
    }
   ],
   "source": [
    "print(\"Precsion when the 6 best features are selected:\",precision_result[5])\n",
    "print(\"Recall when the 6 best features are selected\",recall_result[5])"
   ]
  },
  {
   "cell_type": "code",
   "execution_count": 21,
   "metadata": {
    "collapsed": true
   },
   "outputs": [],
   "source": [
    "selector=feature_selection(6,features, labels)"
   ]
  },
  {
   "cell_type": "code",
   "execution_count": 22,
   "metadata": {},
   "outputs": [
    {
     "data": {
      "text/html": [
       "<div>\n",
       "<style>\n",
       "    .dataframe thead tr:only-child th {\n",
       "        text-align: right;\n",
       "    }\n",
       "\n",
       "    .dataframe thead th {\n",
       "        text-align: left;\n",
       "    }\n",
       "\n",
       "    .dataframe tbody tr th {\n",
       "        vertical-align: top;\n",
       "    }\n",
       "</style>\n",
       "<table border=\"1\" class=\"dataframe\">\n",
       "  <thead>\n",
       "    <tr style=\"text-align: right;\">\n",
       "      <th></th>\n",
       "      <th>feature_name</th>\n",
       "      <th>score</th>\n",
       "    </tr>\n",
       "  </thead>\n",
       "  <tbody>\n",
       "    <tr>\n",
       "      <th>4</th>\n",
       "      <td>exercised_stock_options</td>\n",
       "      <td>25.0975</td>\n",
       "    </tr>\n",
       "    <tr>\n",
       "      <th>9</th>\n",
       "      <td>total_stock_value</td>\n",
       "      <td>24.4677</td>\n",
       "    </tr>\n",
       "    <tr>\n",
       "      <th>5</th>\n",
       "      <td>bonus</td>\n",
       "      <td>21.06</td>\n",
       "    </tr>\n",
       "    <tr>\n",
       "      <th>0</th>\n",
       "      <td>salary</td>\n",
       "      <td>18.5757</td>\n",
       "    </tr>\n",
       "    <tr>\n",
       "      <th>18</th>\n",
       "      <td>fraction_to_poi</td>\n",
       "      <td>16.6417</td>\n",
       "    </tr>\n",
       "    <tr>\n",
       "      <th>15</th>\n",
       "      <td>deferred_income</td>\n",
       "      <td>11.5955</td>\n",
       "    </tr>\n",
       "    <tr>\n",
       "      <th>16</th>\n",
       "      <td>long_term_incentive</td>\n",
       "      <td>10.0725</td>\n",
       "    </tr>\n",
       "    <tr>\n",
       "      <th>6</th>\n",
       "      <td>restricted_stock</td>\n",
       "      <td>9.3467</td>\n",
       "    </tr>\n",
       "    <tr>\n",
       "      <th>3</th>\n",
       "      <td>total_payments</td>\n",
       "      <td>8.86672</td>\n",
       "    </tr>\n",
       "    <tr>\n",
       "      <th>7</th>\n",
       "      <td>shared_receipt_with_poi</td>\n",
       "      <td>8.74649</td>\n",
       "    </tr>\n",
       "    <tr>\n",
       "      <th>11</th>\n",
       "      <td>loan_advances</td>\n",
       "      <td>7.24273</td>\n",
       "    </tr>\n",
       "    <tr>\n",
       "      <th>10</th>\n",
       "      <td>expenses</td>\n",
       "      <td>6.2342</td>\n",
       "    </tr>\n",
       "    <tr>\n",
       "      <th>19</th>\n",
       "      <td>from_poi_to_this_person</td>\n",
       "      <td>5.34494</td>\n",
       "    </tr>\n",
       "    <tr>\n",
       "      <th>13</th>\n",
       "      <td>other</td>\n",
       "      <td>4.20497</td>\n",
       "    </tr>\n",
       "    <tr>\n",
       "      <th>17</th>\n",
       "      <td>fraction_from_poi</td>\n",
       "      <td>3.21076</td>\n",
       "    </tr>\n",
       "    <tr>\n",
       "      <th>20</th>\n",
       "      <td>from_this_person_to_poi</td>\n",
       "      <td>2.42651</td>\n",
       "    </tr>\n",
       "    <tr>\n",
       "      <th>14</th>\n",
       "      <td>director_fees</td>\n",
       "      <td>2.10766</td>\n",
       "    </tr>\n",
       "    <tr>\n",
       "      <th>1</th>\n",
       "      <td>to_messages</td>\n",
       "      <td>1.69882</td>\n",
       "    </tr>\n",
       "    <tr>\n",
       "      <th>2</th>\n",
       "      <td>deferral_payments</td>\n",
       "      <td>0.217059</td>\n",
       "    </tr>\n",
       "    <tr>\n",
       "      <th>12</th>\n",
       "      <td>from_messages</td>\n",
       "      <td>0.164164</td>\n",
       "    </tr>\n",
       "    <tr>\n",
       "      <th>8</th>\n",
       "      <td>restricted_stock_deferred</td>\n",
       "      <td>0.0649843</td>\n",
       "    </tr>\n",
       "  </tbody>\n",
       "</table>\n",
       "</div>"
      ],
      "text/plain": [
       "                 feature_name      score\n",
       "4     exercised_stock_options    25.0975\n",
       "9           total_stock_value    24.4677\n",
       "5                       bonus      21.06\n",
       "0                      salary    18.5757\n",
       "18            fraction_to_poi    16.6417\n",
       "15            deferred_income    11.5955\n",
       "16        long_term_incentive    10.0725\n",
       "6            restricted_stock     9.3467\n",
       "3              total_payments    8.86672\n",
       "7     shared_receipt_with_poi    8.74649\n",
       "11              loan_advances    7.24273\n",
       "10                   expenses     6.2342\n",
       "19    from_poi_to_this_person    5.34494\n",
       "13                      other    4.20497\n",
       "17          fraction_from_poi    3.21076\n",
       "20    from_this_person_to_poi    2.42651\n",
       "14              director_fees    2.10766\n",
       "1                 to_messages    1.69882\n",
       "2           deferral_payments   0.217059\n",
       "12              from_messages   0.164164\n",
       "8   restricted_stock_deferred  0.0649843"
      ]
     },
     "execution_count": 22,
     "metadata": {},
     "output_type": "execute_result"
    }
   ],
   "source": [
    "import pandas as pd\n",
    "feature_importance=pd.DataFrame([features_list[1:],list(selector.scores_)]).T\n",
    "feature_importance.columns=['feature_name','score']\n",
    "feature_importance.sort_values('score',ascending=False)"
   ]
  },
  {
   "cell_type": "markdown",
   "metadata": {},
   "source": [
    "The 6 best features are:\n",
    "- exercised_stock_option\n",
    "- total_stock_value\n",
    "- bonus \n",
    "- salary\n",
    "- fraction_to_poi\n",
    "- deferred_income"
   ]
  },
  {
   "cell_type": "markdown",
   "metadata": {},
   "source": [
    "## b. K-Nearest Neighbors"
   ]
  },
  {
   "cell_type": "markdown",
   "metadata": {},
   "source": [
    "Let's try the K-Nearest Neighbors algorithm. Before training this algorithm, it's important to rescale the features because the algorithm compute the euclidian distance and it will be more affected my large features."
   ]
  },
  {
   "cell_type": "code",
   "execution_count": 23,
   "metadata": {
    "collapsed": true
   },
   "outputs": [],
   "source": [
    "from sklearn.preprocessing import MinMaxScaler\n",
    "min_max_scaler=MinMaxScaler()\n",
    "features=min_max_scaler.fit_transform(features)"
   ]
  },
  {
   "cell_type": "markdown",
   "metadata": {},
   "source": [
    "One parameter which is important to tune for the k-Nearest-neighbors is the number of neighbors. If we set n_neighbors=1, the person is going to be labeled based on the closest neighbor. If we set n_neighbors=10, the person is going to labeled based on the 10 nearest neighbors. When the number of neighbors is small, the bias is low, however the variance is high. That's why it's important to find the right trade-off by using a cross-validation method to tune the parameter."
   ]
  },
  {
   "cell_type": "code",
   "execution_count": 24,
   "metadata": {},
   "outputs": [
    {
     "name": "stderr",
     "output_type": "stream",
     "text": [
      "C:\\Users\\johir\\Anaconda3\\lib\\site-packages\\sklearn\\feature_selection\\univariate_selection.py:113: UserWarning: Features [11] are constant.\n",
      "  UserWarning)\n",
      "C:\\Users\\johir\\Anaconda3\\lib\\site-packages\\sklearn\\feature_selection\\univariate_selection.py:114: RuntimeWarning: invalid value encountered in true_divide\n",
      "  f = msb / msw\n"
     ]
    }
   ],
   "source": [
    "from sklearn.neighbors import KNeighborsClassifier\n",
    "\n",
    "nb_features_orig=len(features[1])\n",
    "\n",
    "#For each case, we want to record the different metrics.\n",
    "precision_result=[]\n",
    "recall_result=[]\n",
    "f1_result=[]\n",
    "f2_result=[]\n",
    "\n",
    "nb_neighbors_store=[]\n",
    "nb_feature_store=[]\n",
    "\n",
    "#Number of neighbours tested\n",
    "nb_neighbors=[1,2,3,5,10,20,30]\n",
    "\n",
    "#We calculate the evaluation metrics for k best number of features selected in the model.\n",
    "for nb_features in range(1,nb_features_orig+1):\n",
    "    #Number of neighbours\n",
    "    for k in range(len(nb_neighbors)):\n",
    "        \n",
    "        #classifier\n",
    "        clf =KNeighborsClassifier(n_neighbors=nb_neighbors[k])\n",
    "        #We use cross-validation and we calculate precision and recall metrics\n",
    "        precision,recall,f1,f2=test_classifier(clf, labels, features,nb_features, folds = 1000)\n",
    "        \n",
    "        #We record the evaluation metrics for each case\n",
    "        precision_result.append(precision)\n",
    "        recall_result.append(recall)     \n",
    "        f1_result.append(f1)\n",
    "        f2_result.append(f2)\n",
    "        nb_feature_store.append(nb_features)\n",
    "        nb_neighbors_store.append(nb_neighbors[k])"
   ]
  },
  {
   "cell_type": "markdown",
   "metadata": {},
   "source": [
    "Let's create a pandas DataFrame with the avaluation metrics (precision, recall, f1,f2) for each case simulated."
   ]
  },
  {
   "cell_type": "code",
   "execution_count": 25,
   "metadata": {},
   "outputs": [
    {
     "data": {
      "text/html": [
       "<div>\n",
       "<style>\n",
       "    .dataframe thead tr:only-child th {\n",
       "        text-align: right;\n",
       "    }\n",
       "\n",
       "    .dataframe thead th {\n",
       "        text-align: left;\n",
       "    }\n",
       "\n",
       "    .dataframe tbody tr th {\n",
       "        vertical-align: top;\n",
       "    }\n",
       "</style>\n",
       "<table border=\"1\" class=\"dataframe\">\n",
       "  <thead>\n",
       "    <tr style=\"text-align: right;\">\n",
       "      <th></th>\n",
       "      <th>nb_feature</th>\n",
       "      <th>nb_neighbors</th>\n",
       "      <th>precision</th>\n",
       "      <th>recall</th>\n",
       "      <th>f1</th>\n",
       "      <th>f2</th>\n",
       "    </tr>\n",
       "  </thead>\n",
       "  <tbody>\n",
       "    <tr>\n",
       "      <th>0</th>\n",
       "      <td>1.0</td>\n",
       "      <td>1.0</td>\n",
       "      <td>0.207246</td>\n",
       "      <td>0.1945</td>\n",
       "      <td>0.200671</td>\n",
       "      <td>0.196922</td>\n",
       "    </tr>\n",
       "    <tr>\n",
       "      <th>1</th>\n",
       "      <td>1.0</td>\n",
       "      <td>2.0</td>\n",
       "      <td>0.251055</td>\n",
       "      <td>0.0595</td>\n",
       "      <td>0.096200</td>\n",
       "      <td>0.070215</td>\n",
       "    </tr>\n",
       "    <tr>\n",
       "      <th>2</th>\n",
       "      <td>1.0</td>\n",
       "      <td>3.0</td>\n",
       "      <td>0.191111</td>\n",
       "      <td>0.0860</td>\n",
       "      <td>0.118621</td>\n",
       "      <td>0.096629</td>\n",
       "    </tr>\n",
       "    <tr>\n",
       "      <th>3</th>\n",
       "      <td>1.0</td>\n",
       "      <td>5.0</td>\n",
       "      <td>0.323017</td>\n",
       "      <td>0.0835</td>\n",
       "      <td>0.132698</td>\n",
       "      <td>0.098039</td>\n",
       "    </tr>\n",
       "    <tr>\n",
       "      <th>4</th>\n",
       "      <td>1.0</td>\n",
       "      <td>10.0</td>\n",
       "      <td>0.000000</td>\n",
       "      <td>0.0000</td>\n",
       "      <td>0.000000</td>\n",
       "      <td>0.000000</td>\n",
       "    </tr>\n",
       "  </tbody>\n",
       "</table>\n",
       "</div>"
      ],
      "text/plain": [
       "   nb_feature  nb_neighbors  precision  recall        f1        f2\n",
       "0         1.0           1.0   0.207246  0.1945  0.200671  0.196922\n",
       "1         1.0           2.0   0.251055  0.0595  0.096200  0.070215\n",
       "2         1.0           3.0   0.191111  0.0860  0.118621  0.096629\n",
       "3         1.0           5.0   0.323017  0.0835  0.132698  0.098039\n",
       "4         1.0          10.0   0.000000  0.0000  0.000000  0.000000"
      ]
     },
     "execution_count": 25,
     "metadata": {},
     "output_type": "execute_result"
    }
   ],
   "source": [
    "import pandas as pd\n",
    "result=pd.DataFrame([nb_feature_store,nb_neighbors_store,precision_result,recall_result,f1_result,f2_result]).T\n",
    "result.columns=['nb_feature','nb_neighbors','precision','recall','f1','f2']\n",
    "result.head()"
   ]
  },
  {
   "cell_type": "markdown",
   "metadata": {},
   "source": [
    "First, we want to determine how many features we want to select to have the best precision and recall."
   ]
  },
  {
   "cell_type": "markdown",
   "metadata": {},
   "source": [
    "We select the best F2-score for each number of features included in the model. We use the F2 score instead of F1 socre because it puts more weight on recall. This is important because recall tends to be lower, and we want to find precision and recall higher than 0.3."
   ]
  },
  {
   "cell_type": "code",
   "execution_count": 26,
   "metadata": {},
   "outputs": [],
   "source": [
    "result_sort_by_f2=result.sort_values('f2',ascending=False)\n",
    "result_group=result_sort_by_f2.groupby('nb_feature')"
   ]
  },
  {
   "cell_type": "code",
   "execution_count": 27,
   "metadata": {},
   "outputs": [
    {
     "data": {
      "text/html": [
       "<div>\n",
       "<style>\n",
       "    .dataframe thead tr:only-child th {\n",
       "        text-align: right;\n",
       "    }\n",
       "\n",
       "    .dataframe thead th {\n",
       "        text-align: left;\n",
       "    }\n",
       "\n",
       "    .dataframe tbody tr th {\n",
       "        vertical-align: top;\n",
       "    }\n",
       "</style>\n",
       "<table border=\"1\" class=\"dataframe\">\n",
       "  <thead>\n",
       "    <tr style=\"text-align: right;\">\n",
       "      <th></th>\n",
       "      <th>nb_feature</th>\n",
       "      <th>nb_neighbors</th>\n",
       "      <th>precision</th>\n",
       "      <th>recall</th>\n",
       "      <th>f1</th>\n",
       "      <th>f2</th>\n",
       "    </tr>\n",
       "  </thead>\n",
       "  <tbody>\n",
       "    <tr>\n",
       "      <th>0</th>\n",
       "      <td>1.0</td>\n",
       "      <td>1.0</td>\n",
       "      <td>0.207246</td>\n",
       "      <td>0.1945</td>\n",
       "      <td>0.200671</td>\n",
       "      <td>0.196922</td>\n",
       "    </tr>\n",
       "    <tr>\n",
       "      <th>7</th>\n",
       "      <td>2.0</td>\n",
       "      <td>1.0</td>\n",
       "      <td>0.182790</td>\n",
       "      <td>0.1795</td>\n",
       "      <td>0.181130</td>\n",
       "      <td>0.180149</td>\n",
       "    </tr>\n",
       "    <tr>\n",
       "      <th>14</th>\n",
       "      <td>3.0</td>\n",
       "      <td>1.0</td>\n",
       "      <td>0.300465</td>\n",
       "      <td>0.2910</td>\n",
       "      <td>0.295657</td>\n",
       "      <td>0.292845</td>\n",
       "    </tr>\n",
       "    <tr>\n",
       "      <th>21</th>\n",
       "      <td>4.0</td>\n",
       "      <td>1.0</td>\n",
       "      <td>0.298264</td>\n",
       "      <td>0.2835</td>\n",
       "      <td>0.290695</td>\n",
       "      <td>0.286335</td>\n",
       "    </tr>\n",
       "    <tr>\n",
       "      <th>30</th>\n",
       "      <td>5.0</td>\n",
       "      <td>3.0</td>\n",
       "      <td>0.283772</td>\n",
       "      <td>0.1670</td>\n",
       "      <td>0.210261</td>\n",
       "      <td>0.181977</td>\n",
       "    </tr>\n",
       "  </tbody>\n",
       "</table>\n",
       "</div>"
      ],
      "text/plain": [
       "    nb_feature  nb_neighbors  precision  recall        f1        f2\n",
       "0          1.0           1.0   0.207246  0.1945  0.200671  0.196922\n",
       "7          2.0           1.0   0.182790  0.1795  0.181130  0.180149\n",
       "14         3.0           1.0   0.300465  0.2910  0.295657  0.292845\n",
       "21         4.0           1.0   0.298264  0.2835  0.290695  0.286335\n",
       "30         5.0           3.0   0.283772  0.1670  0.210261  0.181977"
      ]
     },
     "execution_count": 27,
     "metadata": {},
     "output_type": "execute_result"
    }
   ],
   "source": [
    "top_param_by_nbfeature=result_group.head(1).sort_values('nb_feature')\n",
    "top_param_by_nbfeature.head()"
   ]
  },
  {
   "cell_type": "markdown",
   "metadata": {},
   "source": [
    "Let's plot the precision and recall by number of features selected in the model."
   ]
  },
  {
   "cell_type": "code",
   "execution_count": 28,
   "metadata": {},
   "outputs": [
    {
     "data": {
      "image/png": "[encoded data removed]",
      "text/plain": [
       "<matplotlib.figure.Figure at 0x1f5be616898>"
      ]
     },
     "metadata": {},
     "output_type": "display_data"
    }
   ],
   "source": [
    "plt.plot(top_param_by_nbfeature.nb_feature,top_param_by_nbfeature.precision,c='red',label='precision')\n",
    "plt.plot(top_param_by_nbfeature.nb_feature,top_param_by_nbfeature.recall,c='blue',label='recall')\n",
    "plt.xlabel(\"Number of features used in the model\")\n",
    "plt.legend()\n",
    "plt.show()"
   ]
  },
  {
   "cell_type": "markdown",
   "metadata": {},
   "source": [
    "The 4 best features selected seems to provide the best performance. However the recall is lower than 0.3."
   ]
  },
  {
   "cell_type": "markdown",
   "metadata": {},
   "source": [
    "If we select the 4 best variables, what's the number of neighbors that provides the best precision and recall (f2)?"
   ]
  },
  {
   "cell_type": "code",
   "execution_count": 29,
   "metadata": {},
   "outputs": [
    {
     "data": {
      "text/html": [
       "<div>\n",
       "<style>\n",
       "    .dataframe thead tr:only-child th {\n",
       "        text-align: right;\n",
       "    }\n",
       "\n",
       "    .dataframe thead th {\n",
       "        text-align: left;\n",
       "    }\n",
       "\n",
       "    .dataframe tbody tr th {\n",
       "        vertical-align: top;\n",
       "    }\n",
       "</style>\n",
       "<table border=\"1\" class=\"dataframe\">\n",
       "  <thead>\n",
       "    <tr style=\"text-align: right;\">\n",
       "      <th></th>\n",
       "      <th>nb_feature</th>\n",
       "      <th>nb_neighbors</th>\n",
       "      <th>precision</th>\n",
       "      <th>recall</th>\n",
       "      <th>f1</th>\n",
       "      <th>f2</th>\n",
       "    </tr>\n",
       "  </thead>\n",
       "  <tbody>\n",
       "    <tr>\n",
       "      <th>21</th>\n",
       "      <td>4.0</td>\n",
       "      <td>1.0</td>\n",
       "      <td>0.298264</td>\n",
       "      <td>0.2835</td>\n",
       "      <td>0.290695</td>\n",
       "      <td>0.286335</td>\n",
       "    </tr>\n",
       "  </tbody>\n",
       "</table>\n",
       "</div>"
      ],
      "text/plain": [
       "    nb_feature  nb_neighbors  precision  recall        f1        f2\n",
       "21         4.0           1.0   0.298264  0.2835  0.290695  0.286335"
      ]
     },
     "execution_count": 29,
     "metadata": {},
     "output_type": "execute_result"
    }
   ],
   "source": [
    "top_param_by_nbfeature[top_param_by_nbfeature.nb_feature==4]"
   ]
  },
  {
   "cell_type": "markdown",
   "metadata": {},
   "source": [
    "The answer is nb_neighbors=1."
   ]
  },
  {
   "cell_type": "markdown",
   "metadata": {},
   "source": [
    "## c. Support Vector Machine "
   ]
  },
  {
   "cell_type": "markdown",
   "metadata": {},
   "source": [
    "The features are already rescaled. It's important to scale features because the decision boundary is affected by the size of the feature when the algorithm maximizes the margin. "
   ]
  },
  {
   "cell_type": "markdown",
   "metadata": {},
   "source": [
    "For the support vector machine algorithm, we need to tune the following parameters:\n",
    "- **C** : controls tradeoff between smooth decision boundary and classifying training point correctly. When C gets large we expect more training points correct however there is a risk of overfitting.\n",
    "- **kernel** : transform the input space in a a much larger input space to be linearaly seperable. Here we will use the radial ('rbf') kernel because it takes too much time to train the algorithm with linear kernel.\n",
    "- **gamma** : Kernel coefficient for ‘rbf’"
   ]
  },
  {
   "cell_type": "code",
   "execution_count": 30,
   "metadata": {},
   "outputs": [
    {
     "name": "stderr",
     "output_type": "stream",
     "text": [
      "C:\\Users\\johir\\Anaconda3\\lib\\site-packages\\sklearn\\feature_selection\\univariate_selection.py:113: UserWarning: Features [11] are constant.\n",
      "  UserWarning)\n",
      "C:\\Users\\johir\\Anaconda3\\lib\\site-packages\\sklearn\\feature_selection\\univariate_selection.py:114: RuntimeWarning: invalid value encountered in true_divide\n",
      "  f = msb / msw\n"
     ]
    }
   ],
   "source": [
    "from sklearn.svm import SVC\n",
    "\n",
    "nb_features_orig=len(features[1])\n",
    "#For each case, we want to record the different metrics.\n",
    "precision_result=[]\n",
    "recall_result=[]\n",
    "f1_result=[]\n",
    "f2_result=[]\n",
    "\n",
    "C_param_store=[]\n",
    "gamma_param_store=[]\n",
    "nb_feature_store=[]\n",
    "\n",
    "C_param= [0.1,1.0,1e1,1e2,1e3, 5e3, 1e4, 5e4, 1e5]\n",
    "gamma_param=[0.0001, 0.0005, 0.001, 0.005, 0.01, 0.1]\n",
    "\n",
    "for nb_features in range(1,nb_features_orig+1):\n",
    "    \n",
    "    best_precision=0\n",
    "    best_recall=0\n",
    "    best_f1=0\n",
    "    \n",
    "    for i in range(len(C_param)):\n",
    "        for j in range(len(gamma_param)):\n",
    "            \n",
    "            clf=SVC(kernel='rbf',C=C_param[i],gamma=gamma_param[j])\n",
    "\n",
    "            #We use cross-validation and we calculate precision and recall metrics\n",
    "            precision,recall,f1,f2=test_classifier(clf, labels, features,nb_features, folds = 1000)\n",
    "        \n",
    "            #We record the evaluation metrics for each case\n",
    "            precision_result.append(precision)\n",
    "            recall_result.append(recall)     \n",
    "            f1_result.append(f1)\n",
    "            f2_result.append(f2)\n",
    "            C_param_store.append(C_param[i])\n",
    "            gamma_param_store.append(gamma_param[j])\n",
    "            nb_feature_store.append(nb_features)"
   ]
  },
  {
   "cell_type": "markdown",
   "metadata": {},
   "source": [
    "Let's create a pandas DataFrame with the avaluation metrics (precision, recall, f1,f2) for each case simulated."
   ]
  },
  {
   "cell_type": "code",
   "execution_count": 31,
   "metadata": {},
   "outputs": [
    {
     "data": {
      "text/html": [
       "<div>\n",
       "<style>\n",
       "    .dataframe thead tr:only-child th {\n",
       "        text-align: right;\n",
       "    }\n",
       "\n",
       "    .dataframe thead th {\n",
       "        text-align: left;\n",
       "    }\n",
       "\n",
       "    .dataframe tbody tr th {\n",
       "        vertical-align: top;\n",
       "    }\n",
       "</style>\n",
       "<table border=\"1\" class=\"dataframe\">\n",
       "  <thead>\n",
       "    <tr style=\"text-align: right;\">\n",
       "      <th></th>\n",
       "      <th>nb_feature</th>\n",
       "      <th>C</th>\n",
       "      <th>gamma</th>\n",
       "      <th>precision</th>\n",
       "      <th>recall</th>\n",
       "      <th>f1</th>\n",
       "      <th>f2</th>\n",
       "    </tr>\n",
       "  </thead>\n",
       "  <tbody>\n",
       "    <tr>\n",
       "      <th>0</th>\n",
       "      <td>1.0</td>\n",
       "      <td>0.1</td>\n",
       "      <td>0.0001</td>\n",
       "      <td>0.0</td>\n",
       "      <td>0.0</td>\n",
       "      <td>0.0</td>\n",
       "      <td>0.0</td>\n",
       "    </tr>\n",
       "    <tr>\n",
       "      <th>1</th>\n",
       "      <td>1.0</td>\n",
       "      <td>0.1</td>\n",
       "      <td>0.0005</td>\n",
       "      <td>0.0</td>\n",
       "      <td>0.0</td>\n",
       "      <td>0.0</td>\n",
       "      <td>0.0</td>\n",
       "    </tr>\n",
       "    <tr>\n",
       "      <th>2</th>\n",
       "      <td>1.0</td>\n",
       "      <td>0.1</td>\n",
       "      <td>0.0010</td>\n",
       "      <td>0.0</td>\n",
       "      <td>0.0</td>\n",
       "      <td>0.0</td>\n",
       "      <td>0.0</td>\n",
       "    </tr>\n",
       "    <tr>\n",
       "      <th>3</th>\n",
       "      <td>1.0</td>\n",
       "      <td>0.1</td>\n",
       "      <td>0.0050</td>\n",
       "      <td>0.0</td>\n",
       "      <td>0.0</td>\n",
       "      <td>0.0</td>\n",
       "      <td>0.0</td>\n",
       "    </tr>\n",
       "    <tr>\n",
       "      <th>4</th>\n",
       "      <td>1.0</td>\n",
       "      <td>0.1</td>\n",
       "      <td>0.0100</td>\n",
       "      <td>0.0</td>\n",
       "      <td>0.0</td>\n",
       "      <td>0.0</td>\n",
       "      <td>0.0</td>\n",
       "    </tr>\n",
       "  </tbody>\n",
       "</table>\n",
       "</div>"
      ],
      "text/plain": [
       "   nb_feature    C   gamma  precision  recall   f1   f2\n",
       "0         1.0  0.1  0.0001        0.0     0.0  0.0  0.0\n",
       "1         1.0  0.1  0.0005        0.0     0.0  0.0  0.0\n",
       "2         1.0  0.1  0.0010        0.0     0.0  0.0  0.0\n",
       "3         1.0  0.1  0.0050        0.0     0.0  0.0  0.0\n",
       "4         1.0  0.1  0.0100        0.0     0.0  0.0  0.0"
      ]
     },
     "execution_count": 31,
     "metadata": {},
     "output_type": "execute_result"
    }
   ],
   "source": [
    "import pandas as pd\n",
    "result=pd.DataFrame([nb_feature_store, C_param_store,gamma_param_store,precision_result,recall_result,f1_result,f2_result]).T\n",
    "result.columns=['nb_feature','C','gamma','precision','recall','f1','f2']\n",
    "result.head()"
   ]
  },
  {
   "cell_type": "markdown",
   "metadata": {},
   "source": [
    "First, we want to determine how many features we want to select to have the best precision and recall."
   ]
  },
  {
   "cell_type": "markdown",
   "metadata": {},
   "source": [
    "We select the best F2-score for each number of features included in the model. We use the F2 score instead of F1 socre because it puts more weight on recall which is important because recall tends to be lower and we want to find precision and recall higher than 0.3."
   ]
  },
  {
   "cell_type": "code",
   "execution_count": 32,
   "metadata": {
    "collapsed": true
   },
   "outputs": [],
   "source": [
    "result_sort_by_f2=result.sort_values('f2',ascending=False)\n",
    "result_group=result_sort_by_f2.groupby('nb_feature')"
   ]
  },
  {
   "cell_type": "code",
   "execution_count": 33,
   "metadata": {},
   "outputs": [
    {
     "data": {
      "text/html": [
       "<div>\n",
       "<style>\n",
       "    .dataframe thead tr:only-child th {\n",
       "        text-align: right;\n",
       "    }\n",
       "\n",
       "    .dataframe thead th {\n",
       "        text-align: left;\n",
       "    }\n",
       "\n",
       "    .dataframe tbody tr th {\n",
       "        vertical-align: top;\n",
       "    }\n",
       "</style>\n",
       "<table border=\"1\" class=\"dataframe\">\n",
       "  <thead>\n",
       "    <tr style=\"text-align: right;\">\n",
       "      <th></th>\n",
       "      <th>nb_feature</th>\n",
       "      <th>C</th>\n",
       "      <th>gamma</th>\n",
       "      <th>precision</th>\n",
       "      <th>recall</th>\n",
       "      <th>f1</th>\n",
       "      <th>f2</th>\n",
       "    </tr>\n",
       "  </thead>\n",
       "  <tbody>\n",
       "    <tr>\n",
       "      <th>53</th>\n",
       "      <td>1.0</td>\n",
       "      <td>100000.0</td>\n",
       "      <td>0.10</td>\n",
       "      <td>0.504926</td>\n",
       "      <td>0.1025</td>\n",
       "      <td>0.170407</td>\n",
       "      <td>0.121937</td>\n",
       "    </tr>\n",
       "    <tr>\n",
       "      <th>107</th>\n",
       "      <td>2.0</td>\n",
       "      <td>100000.0</td>\n",
       "      <td>0.10</td>\n",
       "      <td>0.570455</td>\n",
       "      <td>0.1255</td>\n",
       "      <td>0.205738</td>\n",
       "      <td>0.148697</td>\n",
       "    </tr>\n",
       "    <tr>\n",
       "      <th>160</th>\n",
       "      <td>3.0</td>\n",
       "      <td>100000.0</td>\n",
       "      <td>0.01</td>\n",
       "      <td>0.562222</td>\n",
       "      <td>0.1265</td>\n",
       "      <td>0.206531</td>\n",
       "      <td>0.149704</td>\n",
       "    </tr>\n",
       "    <tr>\n",
       "      <th>214</th>\n",
       "      <td>4.0</td>\n",
       "      <td>100000.0</td>\n",
       "      <td>0.01</td>\n",
       "      <td>0.536926</td>\n",
       "      <td>0.1345</td>\n",
       "      <td>0.215114</td>\n",
       "      <td>0.158217</td>\n",
       "    </tr>\n",
       "    <tr>\n",
       "      <th>269</th>\n",
       "      <td>5.0</td>\n",
       "      <td>100000.0</td>\n",
       "      <td>0.10</td>\n",
       "      <td>0.302770</td>\n",
       "      <td>0.1585</td>\n",
       "      <td>0.208074</td>\n",
       "      <td>0.175196</td>\n",
       "    </tr>\n",
       "  </tbody>\n",
       "</table>\n",
       "</div>"
      ],
      "text/plain": [
       "     nb_feature         C  gamma  precision  recall        f1        f2\n",
       "53          1.0  100000.0   0.10   0.504926  0.1025  0.170407  0.121937\n",
       "107         2.0  100000.0   0.10   0.570455  0.1255  0.205738  0.148697\n",
       "160         3.0  100000.0   0.01   0.562222  0.1265  0.206531  0.149704\n",
       "214         4.0  100000.0   0.01   0.536926  0.1345  0.215114  0.158217\n",
       "269         5.0  100000.0   0.10   0.302770  0.1585  0.208074  0.175196"
      ]
     },
     "execution_count": 33,
     "metadata": {},
     "output_type": "execute_result"
    }
   ],
   "source": [
    "top_param_by_nbfeature=result_group.head(1).sort_values('nb_feature')\n",
    "top_param_by_nbfeature.head()"
   ]
  },
  {
   "cell_type": "markdown",
   "metadata": {},
   "source": [
    "Let's plot the precision and recall by number of features selected in the model."
   ]
  },
  {
   "cell_type": "code",
   "execution_count": 34,
   "metadata": {},
   "outputs": [
    {
     "data": {
      "image/png": "[encoded data removed]",
      "text/plain": [
       "<matplotlib.figure.Figure at 0x1f5be33c0b8>"
      ]
     },
     "metadata": {},
     "output_type": "display_data"
    }
   ],
   "source": [
    "plt.plot(top_param_by_nbfeature.nb_feature,top_param_by_nbfeature.precision,c='red',label='precision')\n",
    "plt.plot(top_param_by_nbfeature.nb_feature,top_param_by_nbfeature.recall,c='blue',label='recall')\n",
    "plt.xlabel(\"Number of features used in the model\")\n",
    "plt.legend()\n",
    "plt.show()"
   ]
  },
  {
   "cell_type": "markdown",
   "metadata": {},
   "source": [
    "We can observe that with Support Vector Machine, we can acheive a high precision (more than 0.5) when we select the 2 or 3 best variables. However recall is lower than 0.2. When more than 10 features are selected, precision and recall tend to converge but they are still lower than 0.3. "
   ]
  },
  {
   "cell_type": "markdown",
   "metadata": {},
   "source": [
    "It should be noted that the best f2 we can reach by selecting the two best features is 0.148. To achieve this f2 we need to set the C parameter equal to 100000 and gamma=0.1."
   ]
  },
  {
   "cell_type": "code",
   "execution_count": 35,
   "metadata": {},
   "outputs": [
    {
     "data": {
      "text/html": [
       "<div>\n",
       "<style>\n",
       "    .dataframe thead tr:only-child th {\n",
       "        text-align: right;\n",
       "    }\n",
       "\n",
       "    .dataframe thead th {\n",
       "        text-align: left;\n",
       "    }\n",
       "\n",
       "    .dataframe tbody tr th {\n",
       "        vertical-align: top;\n",
       "    }\n",
       "</style>\n",
       "<table border=\"1\" class=\"dataframe\">\n",
       "  <thead>\n",
       "    <tr style=\"text-align: right;\">\n",
       "      <th></th>\n",
       "      <th>nb_feature</th>\n",
       "      <th>C</th>\n",
       "      <th>gamma</th>\n",
       "      <th>precision</th>\n",
       "      <th>recall</th>\n",
       "      <th>f1</th>\n",
       "      <th>f2</th>\n",
       "    </tr>\n",
       "  </thead>\n",
       "  <tbody>\n",
       "    <tr>\n",
       "      <th>107</th>\n",
       "      <td>2.0</td>\n",
       "      <td>100000.0</td>\n",
       "      <td>0.1</td>\n",
       "      <td>0.570455</td>\n",
       "      <td>0.1255</td>\n",
       "      <td>0.205738</td>\n",
       "      <td>0.148697</td>\n",
       "    </tr>\n",
       "  </tbody>\n",
       "</table>\n",
       "</div>"
      ],
      "text/plain": [
       "     nb_feature         C  gamma  precision  recall        f1        f2\n",
       "107         2.0  100000.0    0.1   0.570455  0.1255  0.205738  0.148697"
      ]
     },
     "execution_count": 35,
     "metadata": {},
     "output_type": "execute_result"
    }
   ],
   "source": [
    "top_param_by_nbfeature[top_param_by_nbfeature.nb_feature==2]"
   ]
  },
  {
   "cell_type": "markdown",
   "metadata": {},
   "source": [
    "# 5. Conclusion"
   ]
  },
  {
   "cell_type": "markdown",
   "metadata": {},
   "source": [
    "The goal of this project was to achieve a precision and recall higher than 0.3. That's why we will use Gaussian Naive Bayes algorithm to identify persons of interest. We will include in the model the 6 following features:\n",
    "\n",
    "- exercised_stock_option\n",
    "- total_stock_value\n",
    "- bonus \n",
    "- salary\n",
    "- fraction_to_poi\n",
    "- deferred_income\n"
   ]
  },
  {
   "cell_type": "markdown",
   "metadata": {},
   "source": [
    "# 6. Udacity Tester"
   ]
  },
  {
   "cell_type": "markdown",
   "metadata": {},
   "source": [
    "What's the result return by the tester provided by Udacity when we apply the algorithm selected above?"
   ]
  },
  {
   "cell_type": "code",
   "execution_count": 36,
   "metadata": {},
   "outputs": [
    {
     "data": {
      "text/plain": [
       "GaussianNB(priors=None)"
      ]
     },
     "execution_count": 36,
     "metadata": {},
     "output_type": "execute_result"
    }
   ],
   "source": [
    "data_dict = pickle.load(open(\"final_project_dataset.pkl\", \"rb\"))\n",
    "\n",
    "#We remove the outlier 'TOTAL'.\n",
    "data_dict.pop('TOTAL',0)\n",
    "\n",
    "#We create the feature 'fraction_from_poi' and 'fraction_to_poi'.\n",
    "def computeFraction(poi_messages, all_messages):\n",
    "    \"\"\" given a number messages to/from POI (numerator) \n",
    "        and number of all messages to/from a person (denominator),\n",
    "        return the fraction of messages to/from that person\n",
    "        that are from/to a POI\n",
    "   \"\"\"\n",
    "    fraction = 0.\n",
    "    \n",
    "    if poi_messages=='NaN' or all_messages=='NaN':\n",
    "        fraction = 0.\n",
    "    else:  \n",
    "        fraction=float(poi_messages)/float(all_messages)\n",
    "\n",
    "    return fraction\n",
    "\n",
    "\n",
    "for name in data_dict:\n",
    "\n",
    "    data_point = data_dict[name]\n",
    "\n",
    "    from_poi_to_this_person = data_point[\"from_poi_to_this_person\"]\n",
    "    to_messages = data_point[\"to_messages\"]\n",
    "    fraction_from_poi = computeFraction( from_poi_to_this_person, to_messages )\n",
    "    data_point[\"fraction_from_poi\"] = fraction_from_poi\n",
    "\n",
    "\n",
    "    from_this_person_to_poi = data_point[\"from_this_person_to_poi\"]\n",
    "    from_messages = data_point[\"from_messages\"]\n",
    "    fraction_to_poi = computeFraction( from_this_person_to_poi, from_messages )\n",
    "    data_point[\"fraction_to_poi\"] = fraction_to_poi\n",
    "\n",
    "#We select the features\n",
    "features_list = [\"poi\",\"exercised_stock_options\", \"total_stock_value\",\"bonus\",\"salary\",\"fraction_to_poi\",\"deferred_income\"]\n",
    "my_dataset=data_dict\n",
    "data = featureFormat(data_dict, features_list, sort_keys = True)\n",
    "labels, features = targetFeatureSplit(data)\n",
    "\n",
    "#We select the classifier, Gaussian Naive Bayes.\n",
    "clf=GaussianNB()\n",
    "\n",
    "#We train the classifier.\n",
    "clf.fit(data,labels)"
   ]
  },
  {
   "cell_type": "code",
   "execution_count": 39,
   "metadata": {
    "scrolled": true
   },
   "outputs": [
    {
     "name": "stdout",
     "output_type": "stream",
     "text": [
      "<class 'str'>\n"
     ]
    }
   ],
   "source": [
    "from tester import dump_classifier_and_data\n",
    "print(type(features_list[0]))\n",
    "dump_classifier_and_data(clf, my_dataset, features_list)"
   ]
  },
  {
   "cell_type": "code",
   "execution_count": 40,
   "metadata": {},
   "outputs": [
    {
     "name": "stdout",
     "output_type": "stream",
     "text": [
      "GaussianNB(priors=None)\n",
      "\tAccuracy: 0.86050\tPrecision: 0.51572\tRecall: 0.38550\tF1: 0.44120\tF2: 0.40600\n",
      "\tTotal predictions: 14000\tTrue positives:  771\tFalse positives:  724\tFalse negatives: 1229\tTrue negatives: 11276\n",
      "\n"
     ]
    }
   ],
   "source": [
    "sys.path.append(\"../final_project/\")\n",
    "from tester import load_classifier_and_data,test_classifier\n",
    "\n",
    "clf, dataset, feature_list = load_classifier_and_data()\n",
    "test_classifier(clf, dataset, feature_list)"
   ]
  },
  {
   "cell_type": "markdown",
   "metadata": {},
   "source": [
    "When we run the Udacity tester we get precision of 0.52 and a recall of 0.39, both of which are above 0.3."
   ]
  },
  {
   "cell_type": "markdown",
   "metadata": {
    "collapsed": true
   },
   "source": [
    "# Ressources"
   ]
  },
  {
   "cell_type": "markdown",
   "metadata": {
    "collapsed": true
   },
   "source": [
    "- scikit learn documentation"
   ]
  }
 ],
 "metadata": {
  "kernelspec": {
   "display_name": "Python 3",
   "language": "python",
   "name": "python3"
  },
  "language_info": {
   "codemirror_mode": {
    "name": "ipython",
    "version": 3
   },
   "file_extension": ".py",
   "mimetype": "text/x-python",
   "name": "python",
   "nbconvert_exporter": "python",
   "pygments_lexer": "ipython3",
   "version": "3.6.1"
  }
 },
 "nbformat": 4,
 "nbformat_minor": 1
}
